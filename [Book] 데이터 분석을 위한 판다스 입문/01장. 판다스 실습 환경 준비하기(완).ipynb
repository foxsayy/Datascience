{
 "cells": [
  {
   "cell_type": "markdown",
   "metadata": {},
   "source": [
    "# 1-1. 아나콘다 설치\n",
    "- skip\n",
    "\n",
    "# 1-2. 판다스 실습 준비\n",
    "- skip\n",
    "\n",
    "# 1-3. 안녕? 주피터 노트북!\n",
    "- skip\n",
    "\n",
    "# 1-4 파이썬 패키지 관리자 - pip\n",
    "- skip"
   ]
  },
  {
   "cell_type": "code",
   "execution_count": null,
   "metadata": {},
   "outputs": [],
   "source": []
  }
 ],
 "metadata": {
  "kernelspec": {
   "display_name": "Python 3",
   "language": "python",
   "name": "python3"
  },
  "language_info": {
   "codemirror_mode": {
    "name": "ipython",
    "version": 3
   },
   "file_extension": ".py",
   "mimetype": "text/x-python",
   "name": "python",
   "nbconvert_exporter": "python",
   "pygments_lexer": "ipython3",
   "version": "3.7.0"
  }
 },
 "nbformat": 4,
 "nbformat_minor": 2
}
