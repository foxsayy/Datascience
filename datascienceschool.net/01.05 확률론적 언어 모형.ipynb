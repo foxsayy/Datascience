{
 "cells": [
  {
   "cell_type": "markdown",
   "metadata": {
    "school_cell_uuid": "bf55b1ccd93d455b96ef4935ae5ce8f7"
   },
   "source": [
    "# 확률론적 언어 모형"
   ]
  },
  {
   "cell_type": "markdown",
   "metadata": {
    "school_cell_uuid": "eca6a27f0cfb456f9c6739bba770cc77"
   },
   "source": [
    "확률론적 언어 모형(Probabilistic Language Model)은 $m$개의 단어 $w_1, w_2, \\ldots, w_m$ 열(word sequence)이 주어졌을 때 문장으로써 성립될 확률 $P(w_1, w_2, \\ldots, w_m)$ 을 출력함으로써 이 단어 열이 실제로 현실에서 사용될 수 있는 문장(sentence)인지를 판별하는 모형이다.\n"
   ]
  },
  {
   "cell_type": "markdown",
   "metadata": {
    "school_cell_uuid": "e29531311ac34e6eba0d4227fc3eb14b"
   },
   "source": [
    "이 확률은 각 단어의 확률과 단어들의 조건부 확률을 이용하여 다음과 같이 계산할 수 있다.\n",
    "\n",
    "$$\n",
    "\\begin{eqnarray}\n",
    "P(w_1, w_2, \\ldots, w_m) &=& P(w_1, w_2, \\ldots, w_{m-1}) \\cdot P(w_m\\;|\\; w_1, w_2, \\ldots, w_{m-1}) \\\\\n",
    "&=& P(w_1, w_2, \\ldots, w_{m-2}) \\cdot P(w_{m-1}\\;|\\; w_1, w_2, \\ldots, w_{m-2}) \\cdot P(w_m\\;|\\; w_1, w_2, \\ldots, w_{m-1}) \\\\\n",
    "&=& P(w_1) \\cdot P(w_2 \\;|\\; w_1) \\cdot  P(w_3 \\;|\\; w_1, w_2) P(w_4 \\;|\\; w_1, w_2, w_3) \\cdots P(w_m\\;|\\; w_1, w_2, \\ldots, w_{m-1})\n",
    "\\end{eqnarray}\n",
    "$$\n",
    "\n",
    "여기에서 $P(w_m\\;|\\; w_1, w_2, \\ldots, w_{m-1})$ 은 지금까지 $w_1, w_2, \\ldots, w_{m-1}$라는 단어 열이 나왔을 때, 그 다음 단어로 $w_m$이 나올 조건부 확률을 말한다. 여기에서 지금까지 나온 단어를 **문맥(context)** 정보라고 한다.\n",
    "\n",
    "이 때 조건부 확률을 어떻게 모형화하는냐에 따라 \n",
    "* 유니그램 모형 (Unigram Model)\n",
    "* 바이그램 모형 (Bigram Model)\n",
    "* N-그램 모형 (N-gram Model)\n",
    "\n",
    "등으로 나뉘어 진다."
   ]
  },
  {
   "cell_type": "markdown",
   "metadata": {
    "school_cell_uuid": "b2114670ba754f5f98b95b58fa4a02d3"
   },
   "source": [
    "## 유니그램 모형 (Unigram  Model)\n",
    "\n",
    "만약 모든 단어의 활용이 완전히 서로 독립이라면 단어 열의 확률은 다음과 같이 각 단어의 확률의 곱이 된다. 이러한 모형을 유니그램 모형 (Unigram  Model)이라고 한다.\n",
    "\n",
    "$$ P(w_1, w_2, \\ldots, w_m) = \\prod_{i=1}^m P(w_i) $$"
   ]
  },
  {
   "cell_type": "markdown",
   "metadata": {
    "school_cell_uuid": "657f733b6e924e30a8a64575182f480b"
   },
   "source": [
    "## 바이그램 모형 (Bigram Model)\n",
    "\n",
    "만약 단어의 활용이 바로 전 단어에만 의존한다면 단어 열의 확률은 다음과 같다. 이러한 모형을 Bigram 모형 또는 마코프 모형(Markov Model)이라고 한다.\n",
    "\n",
    "$$ P(w_1, w_2, \\ldots, w_m) = P(w_1) \\prod_{i=2}^{m} P(w_{i}\\;|\\; w_{i-1}) $$"
   ]
  },
  {
   "cell_type": "markdown",
   "metadata": {
    "school_cell_uuid": "5523c981bdf64e78ad2438a51f53bf4d"
   },
   "source": [
    "## N-그램 모형 (N-gram Model)\n",
    "\n",
    "만약 단어의 활용이 바로 전 $n-1$개의 단어에만 의존한다면 단어 열의 확률은 다음과 같다. 이러한 모형을 N-gram 모형이라고 한다.\n",
    "\n",
    "$$ P(w_1, w_2, \\ldots, w_m) = P(w_1) \\prod_{i=n}^{m} P(w_{i}\\;|\\; w_{i-1}, \\ldots, w_{i-n}) $$"
   ]
  },
  {
   "cell_type": "markdown",
   "metadata": {
    "school_cell_uuid": "db1a0a048e784a108b1d7c3a455178bc"
   },
   "source": [
    "## NLTK의 N-gram 기능"
   ]
  },
  {
   "cell_type": "markdown",
   "metadata": {
    "school_cell_uuid": "adcd005eeeb04d43aa71711084af2320"
   },
   "source": [
    "NLTK 패키지에는 바이그램과 N-그램을 생성하는 `bigrams`, `ngrams` 명령이 있다."
   ]
  },
  {
   "cell_type": "code",
   "execution_count": 1,
   "metadata": {
    "school_cell_uuid": "60c2c5bc5f6e4b668af0bce4d27ba21a"
   },
   "outputs": [],
   "source": [
    "from nltk import bigrams, word_tokenize\n",
    "from nltk.util import ngrams\n",
    "\n",
    "sentence = \"I am a boy.\"\n",
    "tokens = word_tokenize(sentence)\n",
    "\n",
    "bigram = bigrams(tokens)\n",
    "trigram = ngrams(tokens, 3)"
   ]
  },
  {
   "cell_type": "code",
   "execution_count": 2,
   "metadata": {
    "school_cell_uuid": "c487c9ef6f2c4ee99b16a67bd9a7575d"
   },
   "outputs": [
    {
     "name": "stdout",
     "output_type": "stream",
     "text": [
      "('I', 'am')\n",
      "('am', 'a')\n",
      "('a', 'boy')\n",
      "('boy', '.')\n"
     ]
    }
   ],
   "source": [
    "for t in bigram:\n",
    "    print(t)"
   ]
  },
  {
   "cell_type": "code",
   "execution_count": 3,
   "metadata": {
    "school_cell_uuid": "27206ea7770e4ed6bf59432a5c001567"
   },
   "outputs": [
    {
     "name": "stdout",
     "output_type": "stream",
     "text": [
      "('I', 'am', 'a')\n",
      "('am', 'a', 'boy')\n",
      "('a', 'boy', '.')\n"
     ]
    }
   ],
   "source": [
    "for t in trigram:\n",
    "    print(t)"
   ]
  },
  {
   "cell_type": "markdown",
   "metadata": {
    "school_cell_uuid": "21104e2da827425f9593d7e08b9fa533"
   },
   "source": [
    "조건부 확률을 추정할 때는 문장의 시작과 끝이라는 조건을 표시하기 위해 모든 문장에 문장의 시작과 끝을 나타내는 특별 토큰을 추가한다. 예를 들어 문장의 시작은 `SS`, 문장의 끝은 `SE` 이라는 토큰을 사용할 수 있다.\n",
    "\n",
    "예를 들어 [\"I\", \"am\", \"a\", \"boy\", \".\"]라는 토큰열(문장)은 [\"SS\", \"I\", \"am\", \"a\", \"boy\", \".\", \"SE\"]라는 토큰열이 된다.\n",
    "ngrams 명령은 padding 기능을 사용하여 이런 특별 토큰을 추가할 수 있다."
   ]
  },
  {
   "cell_type": "code",
   "execution_count": 4,
   "metadata": {
    "school_cell_uuid": "def381c288cf42bb99f8f9fb01a5e318"
   },
   "outputs": [
    {
     "name": "stdout",
     "output_type": "stream",
     "text": [
      "('SS', 'I')\n",
      "('I', 'am')\n",
      "('am', 'a')\n",
      "('a', 'boy')\n",
      "('boy', '.')\n",
      "('.', 'SE')\n"
     ]
    }
   ],
   "source": [
    "bigram = ngrams(tokens, 2, pad_left=True, pad_right=True, left_pad_symbol=\"SS\", right_pad_symbol=\"SE\")\n",
    "for t in bigram:\n",
    "    print(t)"
   ]
  },
  {
   "cell_type": "markdown",
   "metadata": {
    "school_cell_uuid": "2ebfcf9cc8334977a10227880b4fe044"
   },
   "source": [
    "## 조건부 확률 추정 방법"
   ]
  },
  {
   "cell_type": "markdown",
   "metadata": {
    "school_cell_uuid": "785215868ad04dc7a118db13d3fbfe2d"
   },
   "source": [
    "NLTK패키지를 사용하면 바이그램 형태의 조건부 확률을 쉽게 추정할 수 있다. 우선 `ConditionalFreqDist` 클래스로 각 문맥별 단어 빈도를 측정한 후에 `ConditionalProbDist` 클래스를 사용하면 조건부 확률을 추정한다."
   ]
  },
  {
   "cell_type": "code",
   "execution_count": 5,
   "metadata": {
    "school_cell_uuid": "ff6ef4885e68464488f78f99fef11dc2"
   },
   "outputs": [],
   "source": [
    "from nltk import ConditionalFreqDist\n",
    "sentence = \"I am a boy.\"\n",
    "tokens = word_tokenize(sentence)\n",
    "bigram = ngrams(tokens, 2, pad_left=True, pad_right=True, left_pad_symbol=\"SS\", right_pad_symbol=\"SE\")\n",
    "cfd = ConditionalFreqDist([(t[0], t[1]) for t in bigram])"
   ]
  },
  {
   "cell_type": "markdown",
   "metadata": {
    "school_cell_uuid": "cfd75efd43e145a08b022be16595d12d"
   },
   "source": [
    "`ConditionalFreqDist` 클래스는 문맥을 조건으로 가지는 사전 자료형과 비슷하다."
   ]
  },
  {
   "cell_type": "code",
   "execution_count": 6,
   "metadata": {
    "school_cell_uuid": "6df347b70f164ebca0bae869a0f1a762"
   },
   "outputs": [
    {
     "data": {
      "text/plain": [
       "['SS', 'I', 'am', 'a', 'boy', '.']"
      ]
     },
     "execution_count": 6,
     "metadata": {},
     "output_type": "execute_result"
    }
   ],
   "source": [
    "cfd.conditions()"
   ]
  },
  {
   "cell_type": "code",
   "execution_count": 7,
   "metadata": {
    "school_cell_uuid": "9d99a14d1b0e45179de23a536f794dc7"
   },
   "outputs": [
    {
     "data": {
      "text/plain": [
       "FreqDist({'I': 1})"
      ]
     },
     "execution_count": 7,
     "metadata": {},
     "output_type": "execute_result"
    }
   ],
   "source": [
    "cfd[\"SS\"]"
   ]
  },
  {
   "cell_type": "markdown",
   "metadata": {
    "school_cell_uuid": "cdc1ac402c1347aabb68e02d48863c15"
   },
   "source": [
    "다음은 nltk 패키지의 샘플 코퍼스인 movie_reviews의 텍스트로부터 바이그램 확률을 추정하는 예제이다."
   ]
  },
  {
   "cell_type": "code",
   "execution_count": 8,
   "metadata": {
    "school_cell_uuid": "57a444735891416c9bab0a3fd60e1a4b"
   },
   "outputs": [
    {
     "name": "stdout",
     "output_type": "stream",
     "text": [
      "[nltk_data] Downloading package movie_reviews to\n",
      "[nltk_data]     /Users/joelkim/nltk_data...\n",
      "[nltk_data]   Package movie_reviews is already up-to-date!\n",
      "[nltk_data] Downloading package punkt to /Users/joelkim/nltk_data...\n",
      "[nltk_data]   Package punkt is already up-to-date!\n"
     ]
    },
    {
     "data": {
      "text/plain": [
       "[('SS', 'plot'),\n",
       " ('plot', ':'),\n",
       " (':', 'two'),\n",
       " ('two', 'teen'),\n",
       " ('teen', 'couples'),\n",
       " ('couples', 'go'),\n",
       " ('go', 'to'),\n",
       " ('to', 'a'),\n",
       " ('a', 'church'),\n",
       " ('church', 'party'),\n",
       " ('party', ','),\n",
       " (',', 'drink'),\n",
       " ('drink', 'and'),\n",
       " ('and', 'then'),\n",
       " ('then', 'drive'),\n",
       " ('drive', '.'),\n",
       " ('.', 'SE'),\n",
       " ('SS', 'they'),\n",
       " ('they', 'get'),\n",
       " ('get', 'into')]"
      ]
     },
     "execution_count": 8,
     "metadata": {},
     "output_type": "execute_result"
    }
   ],
   "source": [
    "import nltk\n",
    "nltk.download('movie_reviews')\n",
    "nltk.download('punkt')\n",
    "from nltk.corpus import movie_reviews\n",
    "\n",
    "sentences = []\n",
    "for tokens in movie_reviews.sents():\n",
    "    bigram = ngrams(tokens, 2, pad_left=True, pad_right=True, left_pad_symbol=\"SS\", right_pad_symbol=\"SE\")\n",
    "    sentences += [t for t in bigram]\n",
    "\n",
    "sentences[:20]"
   ]
  },
  {
   "cell_type": "markdown",
   "metadata": {
    "school_cell_uuid": "7a3de7831fce4e6a8afc65ceb9565747"
   },
   "source": [
    "문장의 처음(SS 문맥), i라는 단어 다음, 마침표 다음에 나오는 단어의 빈도는 다음과 같다."
   ]
  },
  {
   "cell_type": "code",
   "execution_count": 9,
   "metadata": {
    "school_cell_uuid": "6e78bdf4121b4a2eb33abee2f3615cdd",
    "scrolled": false
   },
   "outputs": [],
   "source": [
    "cfd = ConditionalFreqDist(sentences)"
   ]
  },
  {
   "cell_type": "markdown",
   "metadata": {
    "school_cell_uuid": "674312eb5fe2447dbf27b16fdaca8ec6"
   },
   "source": [
    "* 문장의 처음에 올 수 있는 단어들"
   ]
  },
  {
   "cell_type": "code",
   "execution_count": 10,
   "metadata": {
    "school_cell_uuid": "28281c9b0adf4124ada777613d8fc35c"
   },
   "outputs": [
    {
     "data": {
      "text/plain": [
       "[('the', 8071), ('.', 3173), ('it', 3136), ('i', 2471), ('but', 1814)]"
      ]
     },
     "execution_count": 10,
     "metadata": {},
     "output_type": "execute_result"
    }
   ],
   "source": [
    "cfd[\"SS\"].most_common(5)"
   ]
  },
  {
   "cell_type": "markdown",
   "metadata": {
    "school_cell_uuid": "166b898dd6024747b2f70e50a6eb8d44"
   },
   "source": [
    "* i 다음에 올 수 있는 단어들"
   ]
  },
  {
   "cell_type": "code",
   "execution_count": 11,
   "metadata": {
    "school_cell_uuid": "7b07f51bff9346e98ec7e25805a03bfb"
   },
   "outputs": [
    {
     "data": {
      "text/plain": [
       "[(\"'\", 1357), ('was', 506), ('can', 351), ('have', 330), ('don', 276)]"
      ]
     },
     "execution_count": 11,
     "metadata": {},
     "output_type": "execute_result"
    }
   ],
   "source": [
    "cfd[\"i\"].most_common(5)"
   ]
  },
  {
   "cell_type": "markdown",
   "metadata": {
    "school_cell_uuid": "166b898dd6024747b2f70e50a6eb8d44"
   },
   "source": [
    "* 마침표 다음에 올 수 있는 단어들"
   ]
  },
  {
   "cell_type": "code",
   "execution_count": 12,
   "metadata": {
    "school_cell_uuid": "4e985945e35c4dc79ee52bf00e3df20e"
   },
   "outputs": [
    {
     "data": {
      "text/plain": [
       "[('SE', 63404), ('\"', 1854), (')', 535), (\"'\", 70), (']', 10)]"
      ]
     },
     "execution_count": 12,
     "metadata": {},
     "output_type": "execute_result"
    }
   ],
   "source": [
    "cfd[\".\"].most_common(5)"
   ]
  },
  {
   "cell_type": "markdown",
   "metadata": {
    "school_cell_uuid": "8ec498dbb66448a9a523497f99bcc6d9"
   },
   "source": [
    "그림으로 그리면 다음과 같다."
   ]
  },
  {
   "cell_type": "code",
   "execution_count": 13,
   "metadata": {
    "school_cell_uuid": "8be71841cd784396968bea424efdcc3c"
   },
   "outputs": [
    {
     "data": {
      "image/png": "[encoded data removed]",
      "text/plain": [
       "<Figure size 2400x1500 with 1 Axes>"
      ]
     },
     "metadata": {
      "needs_background": "light"
     },
     "output_type": "display_data"
    },
    {
     "data": {
      "image/png": "[encoded data removed]",
      "text/plain": [
       "<Figure size 2400x1500 with 1 Axes>"
      ]
     },
     "metadata": {
      "needs_background": "light"
     },
     "output_type": "display_data"
    },
    {
     "data": {
      "image/png": "[encoded data removed]",
      "text/plain": [
       "<Figure size 2400x1500 with 1 Axes>"
      ]
     },
     "metadata": {
      "needs_background": "light"
     },
     "output_type": "display_data"
    }
   ],
   "source": [
    "plt.subplot(311)\n",
    "cfd[\"SS\"].plot(5, title=\"문장의 첫단어 분포\")\n",
    "plt.subplot(312)\n",
    "cfd[\"i\"].plot(5, title=\"i 다음 단어의 분포\")\n",
    "plt.subplot(313)\n",
    "cfd[\".\"].plot(5, title=\"i 다음 단어의 분포\")"
   ]
  },
  {
   "cell_type": "markdown",
   "metadata": {
    "school_cell_uuid": "f8d74e7acdf74dd2b61edc394f1d378c"
   },
   "source": [
    "빈도를 추정하면 각각의 조건부 확률은 기본적으로 다음과 같이 추정할 수 있다.\n",
    "\n",
    "$$ P(w\\;|\\; w_c) = \\dfrac{C((w_c, w))}{C((w_c))} $$\n",
    "\n",
    "위 식에서 $C(w_c, w)$은 전체 말뭉치에서 $(w_c, w)$라는 바이그램이 나타나는 횟수이고 $C(w_c)$은 전체 말뭉치에서 $(w_c)$라는 유니그램(단어)이 나타나는 횟수이다.\n",
    "\n",
    "NLTK의 `ConditionalProbDist` 클래스에 `MLEProbDist` 클래스 팩토리를 인수로 넣어 위와 같이 빈도를 추정할 수 있다."
   ]
  },
  {
   "cell_type": "code",
   "execution_count": 14,
   "metadata": {
    "school_cell_uuid": "f5d085b38845441bb61c396ddcd029a6"
   },
   "outputs": [],
   "source": [
    "from nltk.probability import ConditionalProbDist, MLEProbDist\n",
    "cpd = ConditionalProbDist(cfd, MLEProbDist)"
   ]
  },
  {
   "cell_type": "markdown",
   "metadata": {
    "school_cell_uuid": "b57264a7f65f4b03ae3fe3791844863b"
   },
   "source": [
    "트레이닝이 끝나면 조건부 확률의 값을 보거나 샘플 문장을 입력해서 문장의 로그 확률을 구할 수 있다."
   ]
  },
  {
   "cell_type": "code",
   "execution_count": 15,
   "metadata": {
    "school_cell_uuid": "64d572869495495c9a17e3a0ace12fca"
   },
   "outputs": [
    {
     "data": {
      "text/plain": [
       "0.018562267971650354"
      ]
     },
     "execution_count": 15,
     "metadata": {},
     "output_type": "execute_result"
    }
   ],
   "source": [
    "cpd[\"i\"].prob(\"am\")"
   ]
  },
  {
   "cell_type": "code",
   "execution_count": 16,
   "metadata": {
    "school_cell_uuid": "64d572869495495c9a17e3a0ace12fca"
   },
   "outputs": [
    {
     "data": {
      "text/plain": [
       "0.0002249971875351558"
      ]
     },
     "execution_count": 16,
     "metadata": {},
     "output_type": "execute_result"
    }
   ],
   "source": [
    "cpd[\"i\"].prob(\"is\")"
   ]
  },
  {
   "cell_type": "code",
   "execution_count": 17,
   "metadata": {
    "school_cell_uuid": "64d572869495495c9a17e3a0ace12fca"
   },
   "outputs": [
    {
     "data": {
      "text/plain": [
       "0.08504504504504505"
      ]
     },
     "execution_count": 17,
     "metadata": {},
     "output_type": "execute_result"
    }
   ],
   "source": [
    "cpd[\"we\"].prob(\"are\")"
   ]
  },
  {
   "cell_type": "code",
   "execution_count": 18,
   "metadata": {
    "school_cell_uuid": "64d572869495495c9a17e3a0ace12fca"
   },
   "outputs": [
    {
     "data": {
      "text/plain": [
       "0.0"
      ]
     },
     "execution_count": 18,
     "metadata": {},
     "output_type": "execute_result"
    }
   ],
   "source": [
    "cpd[\"we\"].prob(\"is\")"
   ]
  },
  {
   "cell_type": "markdown",
   "metadata": {
    "school_cell_uuid": "e2cedcc1da814a668365dbc71f2723b8"
   },
   "source": [
    "## 바이그램 언어 모형"
   ]
  },
  {
   "cell_type": "markdown",
   "metadata": {
    "school_cell_uuid": "6f963640c5af4456a49231e195ab2ecb"
   },
   "source": [
    "조건부 확률을 알게 되면 각 문장의 확률을 구할 수 있다. \n",
    "\n",
    "\n",
    "다음으로 이 토큰열을 N-그램형태로 분해한다.\n",
    "바이그램 모형에서는 전체 문장의 확률은 다음과 같이 조건부 확률의 곱으로 나타난다.\n",
    "\n",
    "$$ P(\\text{SS I am a boy SE}) = P(\\text{I}\\;|\\; \\text{SS}) \\cdot P(\\text{am}\\;|\\; \\text{I}) \\cdot P(\\text{a}\\;|\\; \\text{am}) \\cdot P(\\text{boy}\\;|\\; \\text{a}) \\cdot P(.\\;|\\; \\text{boy}) \\cdot P(\\text{SE}\\;|\\; .) $$\n",
    "\n"
   ]
  },
  {
   "cell_type": "markdown",
   "metadata": {
    "school_cell_uuid": "41f42fc50f544f358d3440b47a7788b8"
   },
   "source": [
    "우선 다음과 같이 문장(단어 리스트)의 리스트를 만든다."
   ]
  },
  {
   "cell_type": "code",
   "execution_count": 19,
   "metadata": {
    "school_cell_uuid": "90e10f1655004a15aae5bbba2e20c21f"
   },
   "outputs": [],
   "source": [
    "def sentence_score(s):\n",
    "    p = 0.0\n",
    "    for i in range(len(s) - 1):\n",
    "        c = s[i]\n",
    "        w = s[i + 1]\n",
    "        p += np.log(cpd[c].prob(w) + np.finfo(float).eps)\n",
    "    return np.exp(p)"
   ]
  },
  {
   "cell_type": "code",
   "execution_count": 20,
   "metadata": {
    "school_cell_uuid": "48ba48c46a8d49468846a87a324165d1"
   },
   "outputs": [
    {
     "data": {
      "text/plain": [
       "2.740764134071561e-06"
      ]
     },
     "execution_count": 20,
     "metadata": {},
     "output_type": "execute_result"
    }
   ],
   "source": [
    "test_sentence = [\"i\", \"like\", \"the\", \"movie\", \".\"]\n",
    "sentence_score(test_sentence)"
   ]
  },
  {
   "cell_type": "code",
   "execution_count": 21,
   "metadata": {
    "school_cell_uuid": "eee8a42e80a44e0e86f749766da11561"
   },
   "outputs": [
    {
     "data": {
      "text/plain": [
       "1.5015040140827832e-38"
      ]
     },
     "execution_count": 21,
     "metadata": {},
     "output_type": "execute_result"
    }
   ],
   "source": [
    "test_sentence = [\"like\", \"i\", \"the\", \".\", \"movie\"]\n",
    "sentence_score(test_sentence)"
   ]
  },
  {
   "cell_type": "markdown",
   "metadata": {
    "school_cell_uuid": "94439039596542ccb0dfc71abb35cd99"
   },
   "source": [
    "### 문장의 생성"
   ]
  },
  {
   "cell_type": "markdown",
   "metadata": {
    "school_cell_uuid": "e2391827dcd348cd9b4ef80aa457a3b8"
   },
   "source": [
    "이 모형을 기반으로 임의의 랜덤한 문장을 생성할 수 있다. "
   ]
  },
  {
   "cell_type": "code",
   "execution_count": 22,
   "metadata": {
    "school_cell_uuid": "060a067a4b5d407785a452fe24ec01a1"
   },
   "outputs": [],
   "source": [
    "def generate_sentence(seed=None):\n",
    "    if seed is not None:\n",
    "        import random\n",
    "        random.seed(seed)\n",
    "    c = \"SS\"\n",
    "    sentence = []\n",
    "    while True:\n",
    "        if c not in cpd:\n",
    "            break\n",
    "        w = cpd[c].generate()\n",
    "\n",
    "        if w == \"SE\":\n",
    "            break\n",
    "        elif w in [\"i\", \"ii\", \"iii\"]:\n",
    "            w2 = w.upper()\n",
    "        elif w in [\"mr\", \"luc\", \"i\", \"robin\", \"williams\", \"cindy\", \"crawford\"]:\n",
    "            w2 = w.title()\n",
    "        else:\n",
    "            w2 = w\n",
    "\n",
    "        if c == \"SS\":\n",
    "            sentence.append(w2.title())\n",
    "        elif c in [\"`\", \"\\\"\", \"'\", \"(\"]:\n",
    "            sentence.append(w2)\n",
    "        elif w in [\"'\", \".\", \",\", \")\", \":\", \";\", \"?\"]:\n",
    "            sentence.append(w2)\n",
    "        else:\n",
    "            sentence.append(\" \" + w2)\n",
    "\n",
    "        c = w\n",
    "    return \"\".join(sentence)"
   ]
  },
  {
   "cell_type": "code",
   "execution_count": 23,
   "metadata": {
    "school_cell_uuid": "2b890a85b23549319b78030d60c6ca43"
   },
   "outputs": [
    {
     "data": {
      "text/plain": [
       "\"Writers in one of the prison, yet, works as agent ray liotta, one of watching, we supposed to doubt that the holocaust - or the fact, the amc and don's wonderful experience, do what could either.\""
      ]
     },
     "execution_count": 23,
     "metadata": {},
     "output_type": "execute_result"
    }
   ],
   "source": [
    "generate_sentence(6)"
   ]
  },
  {
   "cell_type": "markdown",
   "metadata": {
    "school_cell_uuid": "9724b0639ce0426982305478040fed0a"
   },
   "source": [
    "이번에는 한글 자료를 이용해보자 코퍼스로는 아래의 웹사이트에 공개된 Naver sentiment movie corpus 자료를 사용한다.\n",
    "* https://github.com/e9t/nsmc\n"
   ]
  },
  {
   "cell_type": "code",
   "execution_count": 24,
   "metadata": {
    "school_cell_uuid": "a9bce2d286394d06a63b89dfd222341f"
   },
   "outputs": [
    {
     "name": "stdout",
     "output_type": "stream",
     "text": [
      "CPU times: user 127 ms, sys: 44.5 ms, total: 172 ms\n",
      "Wall time: 5.99 s\n"
     ]
    }
   ],
   "source": [
    "%%time\n",
    "!wget -nc -q https://raw.githubusercontent.com/e9t/nsmc/master/ratings_train.txt"
   ]
  },
  {
   "cell_type": "code",
   "execution_count": 25,
   "metadata": {
    "school_cell_uuid": "ecbca2ea7add46689a20850921ba48d8"
   },
   "outputs": [
    {
     "data": {
      "text/plain": [
       "150000"
      ]
     },
     "execution_count": 25,
     "metadata": {},
     "output_type": "execute_result"
    }
   ],
   "source": [
    "import codecs\n",
    "with codecs.open(\"ratings_train.txt\", encoding='utf-8') as f:\n",
    "    data = [line.split('\\t') for line in f.read().splitlines()]\n",
    "    data = data[1:]   # header 제외\n",
    "\n",
    "docs = [row[1] for row in data]\n",
    "len(docs)"
   ]
  },
  {
   "cell_type": "code",
   "execution_count": 26,
   "metadata": {
    "school_cell_uuid": "d159e76a59cc459b91c4729040875096"
   },
   "outputs": [
    {
     "data": {
      "text/plain": [
       "['그/Noun', '영화/Noun', '는/Josa', '아주/Noun', '재미있었어요/Adjective', './Punctuation']"
      ]
     },
     "execution_count": 26,
     "metadata": {},
     "output_type": "execute_result"
    }
   ],
   "source": [
    "from konlpy.tag import Okt\n",
    "tagger = Okt()\n",
    "\n",
    "def tokenize(doc):\n",
    "    tokens = ['/'.join(t) for t in tagger.pos(doc)]\n",
    "    return tokens\n",
    "\n",
    "tokenize(\"그 영화는 아주 재미있었어요.\")"
   ]
  },
  {
   "cell_type": "code",
   "execution_count": 27,
   "metadata": {
    "school_cell_uuid": "06bc1e03b2224525b197bebf77efeb08"
   },
   "outputs": [
    {
     "name": "stderr",
     "output_type": "stream",
     "text": [
      "100%|██████████| 150000/150000 [03:43<00:00, 670.69it/s]\n"
     ]
    }
   ],
   "source": [
    "from tqdm import tqdm\n",
    "sentences = []\n",
    "for d in tqdm(docs):\n",
    "    tokens = tokenize(d)\n",
    "    bigram = ngrams(tokens, 2, pad_left=True, pad_right=True, left_pad_symbol=\"SS\", right_pad_symbol=\"SE\")\n",
    "    sentences += [t for t in bigram]"
   ]
  },
  {
   "cell_type": "code",
   "execution_count": 28,
   "metadata": {
    "school_cell_uuid": "920fa67e83dc4e5d8eada4b45e8e6cb8"
   },
   "outputs": [
    {
     "data": {
      "text/plain": [
       "[('SS', '아/Exclamation'),\n",
       " ('아/Exclamation', '더빙/Noun'),\n",
       " ('더빙/Noun', '../Punctuation'),\n",
       " ('../Punctuation', '진짜/Noun'),\n",
       " ('진짜/Noun', '짜증나네요/Adjective'),\n",
       " ('짜증나네요/Adjective', '목소리/Noun'),\n",
       " ('목소리/Noun', 'SE'),\n",
       " ('SS', '흠/Noun'),\n",
       " ('흠/Noun', '.../Punctuation'),\n",
       " ('.../Punctuation', '포스터/Noun'),\n",
       " ('포스터/Noun', '보고/Noun'),\n",
       " ('보고/Noun', '초딩/Noun'),\n",
       " ('초딩/Noun', '영화/Noun'),\n",
       " ('영화/Noun', '줄/Noun'),\n",
       " ('줄/Noun', '..../Punctuation'),\n",
       " ('..../Punctuation', '오버/Noun'),\n",
       " ('오버/Noun', '연기/Noun'),\n",
       " ('연기/Noun', '조차/Josa'),\n",
       " ('조차/Josa', '가볍지/Adjective'),\n",
       " ('가볍지/Adjective', '않구나/Verb'),\n",
       " ('않구나/Verb', 'SE'),\n",
       " ('SS', '너/Modifier'),\n",
       " ('너/Modifier', '무재/Noun'),\n",
       " ('무재/Noun', '밓었/Noun'),\n",
       " ('밓었/Noun', '다그/Noun'),\n",
       " ('다그/Noun', '래서/Noun'),\n",
       " ('래서/Noun', '보는것을/Verb'),\n",
       " ('보는것을/Verb', '추천/Noun'),\n",
       " ('추천/Noun', '한/Josa'),\n",
       " ('한/Josa', '다/Adverb')]"
      ]
     },
     "execution_count": 28,
     "metadata": {},
     "output_type": "execute_result"
    }
   ],
   "source": [
    "sentences[:30]"
   ]
  },
  {
   "cell_type": "code",
   "execution_count": 29,
   "metadata": {
    "school_cell_uuid": "bfbe12e798714434a81b03324e5c9300"
   },
   "outputs": [],
   "source": [
    "cfd = ConditionalFreqDist(sentences)\n",
    "cpd = ConditionalProbDist(cfd, MLEProbDist)"
   ]
  },
  {
   "cell_type": "code",
   "execution_count": 30,
   "metadata": {
    "school_cell_uuid": "9de86e17eb794d0f806a9aec2fe84412"
   },
   "outputs": [],
   "source": [
    "def korean_most_common(c, n, pos=None):\n",
    "    if pos is None:\n",
    "        return cfd[tokenize(c)[0]].most_common(n)\n",
    "    else:\n",
    "        return cfd[\"/\".join([c, pos])].most_common(n)"
   ]
  },
  {
   "cell_type": "code",
   "execution_count": 31,
   "metadata": {
    "school_cell_uuid": "ed0182db3a1543118826589a7fad9ae6"
   },
   "outputs": [
    {
     "data": {
      "text/plain": [
       "[('는/Josa', 831),\n",
       " ('의/Josa', 339),\n",
       " ('만/Josa', 213),\n",
       " ('에게/Josa', 148),\n",
       " ('에겐/Josa', 84),\n",
       " ('랑/Josa', 81),\n",
       " ('한테/Josa', 50),\n",
       " ('참/Verb', 45),\n",
       " ('이/Determiner', 44),\n",
       " ('와도/Josa', 43)]"
      ]
     },
     "execution_count": 31,
     "metadata": {},
     "output_type": "execute_result"
    }
   ],
   "source": [
    "korean_most_common(\"나\", 10)"
   ]
  },
  {
   "cell_type": "code",
   "execution_count": 32,
   "metadata": {
    "school_cell_uuid": "219d4ff3eabe4d1e82481d45633f73ad"
   },
   "outputs": [
    {
     "data": {
      "text/plain": [
       "[('영화/Noun', 19),\n",
       " ('연기/Noun', 14),\n",
       " ('구심/Noun', 12),\n",
       " ('모습/Noun', 9),\n",
       " ('감독/Noun', 8),\n",
       " ('매력/Noun', 7),\n",
       " ('감동/Noun', 7),\n",
       " ('흐름/Noun', 6),\n",
       " ('그/Noun', 6),\n",
       " ('이야기/Noun', 6)]"
      ]
     },
     "execution_count": 32,
     "metadata": {},
     "output_type": "execute_result"
    }
   ],
   "source": [
    "korean_most_common(\"의\", 10)"
   ]
  },
  {
   "cell_type": "code",
   "execution_count": 33,
   "metadata": {
    "school_cell_uuid": "88b010aa6dcb4fba878304beca9ef7e4"
   },
   "outputs": [
    {
     "data": {
      "text/plain": [
       "[('SE', 26503),\n",
       " ('영화/Noun', 667),\n",
       " ('이/Noun', 565),\n",
       " ('정말/Noun', 480),\n",
       " ('그리고/Conjunction', 455),\n",
       " ('./Punctuation', 445),\n",
       " ('하지만/Conjunction', 369),\n",
       " ('이/Determiner', 352),\n",
       " ('그/Noun', 325),\n",
       " ('스토리/Noun', 317)]"
      ]
     },
     "execution_count": 33,
     "metadata": {},
     "output_type": "execute_result"
    }
   ],
   "source": [
    "korean_most_common(\".\", 10, \"Punctuation\")"
   ]
  },
  {
   "cell_type": "code",
   "execution_count": 34,
   "metadata": {
    "school_cell_uuid": "d90d43ba0cfd45e18bbe9242fcbff97e"
   },
   "outputs": [],
   "source": [
    "def korean_bigram_prob(c, w):\n",
    "    context = tokenize(c)[0]\n",
    "    word = tokenize(w)[0]\n",
    "    return cpd[context].prob(word)"
   ]
  },
  {
   "cell_type": "code",
   "execution_count": 35,
   "metadata": {
    "school_cell_uuid": "5e8abc4db7fc48aba42bd019d321694f"
   },
   "outputs": [
    {
     "data": {
      "text/plain": [
       "0.4010748656417948"
      ]
     },
     "execution_count": 35,
     "metadata": {},
     "output_type": "execute_result"
    }
   ],
   "source": [
    "korean_bigram_prob(\"이\", \"영화\")"
   ]
  },
  {
   "cell_type": "code",
   "execution_count": 36,
   "metadata": {
    "school_cell_uuid": "9583a21ec46843c194948ee0c3f80945"
   },
   "outputs": [
    {
     "data": {
      "text/plain": [
       "0.00015767585785521414"
      ]
     },
     "execution_count": 36,
     "metadata": {},
     "output_type": "execute_result"
    }
   ],
   "source": [
    "korean_bigram_prob(\"영화\", \"이\")"
   ]
  },
  {
   "cell_type": "code",
   "execution_count": 37,
   "metadata": {
    "school_cell_uuid": "d9eefcc2bf514f459cecb4ec175a12ac"
   },
   "outputs": [],
   "source": [
    "def korean_generate_sentence(seed=None, debug=False):\n",
    "    if seed is not None:\n",
    "        import random\n",
    "        random.seed(seed)\n",
    "    c = \"SS\"\n",
    "    sentence = []\n",
    "    while True:\n",
    "        if c not in cpd:\n",
    "            break\n",
    "            \n",
    "        w = cpd[c].generate()\n",
    "\n",
    "        if w == \"SE\":\n",
    "            break\n",
    "\n",
    "        w2 = w.split(\"/\")[0]\n",
    "        pos = w.split(\"/\")[1]\n",
    "\n",
    "        if c == \"SS\":\n",
    "            sentence.append(w2.title())\n",
    "        elif c in [\"`\", \"\\\"\", \"'\", \"(\"]:\n",
    "            sentence.append(w2)\n",
    "        elif w2 in [\"'\", \".\", \",\", \")\", \":\", \";\", \"?\"]:\n",
    "            sentence.append(w2)\n",
    "        elif pos in [\"Josa\", \"Punctuation\", \"Suffix\"]:\n",
    "            sentence.append(w2)\n",
    "        elif w in [\"임/Noun\", \"것/Noun\", \"는걸/Noun\", \"릴때/Noun\",\n",
    "                   \"되다/Verb\", \"이다/Verb\", \"하다/Verb\", \"이다/Adjective\"]:\n",
    "            sentence.append(w2)\n",
    "        else:\n",
    "            sentence.append(\" \" + w2)\n",
    "        c = w\n",
    "\n",
    "        if debug:\n",
    "            print(w)\n",
    "\n",
    "    return \"\".join(sentence)"
   ]
  },
  {
   "cell_type": "code",
   "execution_count": 38,
   "metadata": {
    "school_cell_uuid": "ddc224d6918c49cfbc6d5608ad92564b"
   },
   "outputs": [
    {
     "data": {
      "text/plain": [
       "'미키짱과 말도 전혀 빗나가지 않던 전개로 꽥꽥대는거 보니까 요^^'"
      ]
     },
     "execution_count": 38,
     "metadata": {},
     "output_type": "execute_result"
    }
   ],
   "source": [
    "korean_generate_sentence(0)"
   ]
  },
  {
   "cell_type": "code",
   "execution_count": 39,
   "metadata": {
    "school_cell_uuid": "e6ebd75c8e10451cb51fdb7ae3d6aa37"
   },
   "outputs": [
    {
     "data": {
      "text/plain": [
       "'내용 일테인데 이 영화 최고의 암살 할려고 한 데 선배랑 김선아 연기도 크다. 배슬기 여배우도 있는 척 하는거지?'"
      ]
     },
     "execution_count": 39,
     "metadata": {},
     "output_type": "execute_result"
    }
   ],
   "source": [
    "korean_generate_sentence(1)"
   ]
  },
  {
   "cell_type": "code",
   "execution_count": 40,
   "metadata": {
    "school_cell_uuid": "6d30e0824acd4ac18ffba3512d08db4a"
   },
   "outputs": [
    {
     "data": {
      "text/plain": [
       "'도리까지 본 영화 너무... 뭔가.. 최고네요. 하지만.. 눈물 낫다는건 또 영화에 들지 않는다. 근데 뭐야 어떻게 그렇게 착했던 윤재랑은 에바 그린 드레스 소리 듣는거임\"\"\" 에리 욧의 미모로 합성 한 가수 노래와 흥행 놓친 영화다. 사투리 연기 하나 없는 ‘ 스피드 감 넘치는 스릴 넘치는 연기를 이해 되지 못 하시는 분보다 훨 재밌구만 평점을 망처 놓은 듯하다. 영화 보는이로 하여금 불편함을 느꼇을듯'"
      ]
     },
     "execution_count": 40,
     "metadata": {},
     "output_type": "execute_result"
    }
   ],
   "source": [
    "korean_generate_sentence(2)"
   ]
  },
  {
   "cell_type": "code",
   "execution_count": 41,
   "metadata": {
    "school_cell_uuid": "0a08313b5715418595343f42e331e42c"
   },
   "outputs": [
    {
     "data": {
      "text/plain": [
       "'내 인생을 반헬싱이 너무 무섭고 재밌고, 칼 세이건으로 연탄가스 맡아서 죽을 같이 작업 하는구나 ㅋㅋㅋㅋㅋ 진짜'"
      ]
     },
     "execution_count": 41,
     "metadata": {},
     "output_type": "execute_result"
    }
   ],
   "source": [
    "korean_generate_sentence(3)"
   ]
  },
  {
   "cell_type": "code",
   "execution_count": 42,
   "metadata": {
    "school_cell_uuid": "fd497eb0d0c1445b839dd038c09b133f"
   },
   "outputs": [
    {
     "data": {
      "text/plain": [
       "'좋았어요... ㅎㄷㄷㄷ 시나리오나 그래픽이 대단한 심리전이 미라 파스틱 함.. 너무 무섭고 나쁜세 끼는 듯 진짜 꼭 필요가 있는지도 모르겠지만 나름 그의 복수 후!!!!!!!!!!!'"
      ]
     },
     "execution_count": 42,
     "metadata": {},
     "output_type": "execute_result"
    }
   ],
   "source": [
    "korean_generate_sentence(5)"
   ]
  },
  {
   "cell_type": "markdown",
   "metadata": {
    "school_cell_uuid": "974f69b35d204567af08c3d91434b4d6"
   },
   "source": [
    "## 확률론적 언어 모형의 활용"
   ]
  },
  {
   "cell_type": "markdown",
   "metadata": {
    "school_cell_uuid": "dd8625a8f9fc451684f0595c2a6564c8"
   },
   "source": [
    "확률론적 언어 모형은 다음과 같은 분야에 광범위하게 활용할 수 있다.\n",
    "\n",
    "* 철자 및 문법 교정(Spell Correction)\n",
    "* 음성 인식(Speech Recognition)\n",
    "* 자동 번역(Machine Translation)\n",
    "* 자동 요약(Summarization)\n",
    "* 챗봇(Question-Answering)"
   ]
  }
 ],
 "metadata": {
  "anaconda-cloud": {},
  "kernelspec": {
   "display_name": "Python 3",
   "language": "python",
   "name": "python3"
  },
  "language_info": {
   "codemirror_mode": {
    "name": "ipython",
    "version": 3
   },
   "file_extension": ".py",
   "mimetype": "text/x-python",
   "name": "python",
   "nbconvert_exporter": "python",
   "pygments_lexer": "ipython3",
   "version": "3.6.6"
  },
  "toc": {
   "base_numbering": 1,
   "nav_menu": {},
   "number_sections": false,
   "sideBar": true,
   "skip_h1_title": false,
   "title_cell": "Table of Contents",
   "title_sidebar": "Contents",
   "toc_cell": false,
   "toc_position": {},
   "toc_section_display": true,
   "toc_window_display": false
  }
 },
 "nbformat": 4,
 "nbformat_minor": 1
}