{
 "cells": [
  {
   "cell_type": "markdown",
   "metadata": {
    "school_cell_uuid": "f8a28d7d44384e3ea80f4b8fcd4b90cf"
   },
   "source": [
    "# KoNLPy  사용자 사전 추가 "
   ]
  },
  {
   "cell_type": "markdown",
   "metadata": {
    "school_cell_uuid": "b415582b7fbf4344a63bad9e20be38fb"
   },
   "source": [
    "한국어 형태소 분석 성능을 높이기 위해 사용자 사전을 추가하는 방법에 대해 설명한다."
   ]
  },
  {
   "cell_type": "markdown",
   "metadata": {
    "school_cell_uuid": "942b86e1209c4c559ed4122473276856"
   },
   "source": [
    "## Komoran 사용자 사전 추가"
   ]
  },
  {
   "cell_type": "code",
   "execution_count": 1,
   "metadata": {
    "school_cell_uuid": "e09c9aad65574507907f411519d3f7ca"
   },
   "outputs": [],
   "source": [
    "sentence = '자유한국당, \"박근혜-최순실 국정농단 태블릿 PC는 거짓\"이라고 주장'"
   ]
  },
  {
   "cell_type": "markdown",
   "metadata": {
    "school_cell_uuid": "d2009adfb1594b16aa92c24b6176f63c"
   },
   "source": [
    "위 문장에 대해 품사 분석을 진행하면, `최순실`이라는  고유명사가 사전에 없기 때문에 다음과 같이 잘못 분석된다. "
   ]
  },
  {
   "cell_type": "code",
   "execution_count": 2,
   "metadata": {
    "school_cell_uuid": "3830d373e25d495184cdcd9f2b3c49ac"
   },
   "outputs": [
    {
     "data": {
      "text/plain": [
       "[('자유', 'NNG'),\n",
       " ('한국당', 'NNP'),\n",
       " (',', 'SP'),\n",
       " ('\"', 'SS'),\n",
       " ('박근혜', 'NNP'),\n",
       " ('-', 'SS'),\n",
       " ('최순', 'NNP'),\n",
       " ('실', 'NNP'),\n",
       " ('국정', 'NNG'),\n",
       " ('농', 'NNG'),\n",
       " ('단', 'NNG'),\n",
       " ('태블릿 PC', 'NNP'),\n",
       " ('는', 'JX'),\n",
       " ('거짓', 'NNG'),\n",
       " ('\"', 'SS'),\n",
       " ('이라고', 'JKQ'),\n",
       " ('주장', 'NNG')]"
      ]
     },
     "execution_count": 2,
     "metadata": {},
     "output_type": "execute_result"
    }
   ],
   "source": [
    "from konlpy.tag import Komoran\n",
    "komoran = Komoran()\n",
    "komoran.pos(sentence)"
   ]
  },
  {
   "cell_type": "markdown",
   "metadata": {
    "school_cell_uuid": "e5b9bbcf4fa24ded84d6da12fcbb8551"
   },
   "source": [
    "이 문제는 사용자 사전을 추가 함으로 해결할 수 있다. Komoran을 이용 할 때는 비교적 손쉽게 사용자 사전을 추가할 수 있다. 참조하고 싶은 단어와 그 품사를 txt 파일로 만들어 객체를 생성할 때 `userdic` 인수에 txt 파일의 경로를 입력하면 된다. 이 때, txt 파일 내에서 단어와 품사는 탭(tab)으로 구분한다. 다음은 추가할 `user_dic.txt` 라는 파일의 내용이다. "
   ]
  },
  {
   "cell_type": "code",
   "execution_count": 3,
   "metadata": {
    "school_cell_uuid": "484c53fb8ffc4892b03a332cfb00c441"
   },
   "outputs": [
    {
     "name": "stdout",
     "output_type": "stream",
     "text": [
      "최순실\tNNP\r\n"
     ]
    }
   ],
   "source": [
    "!cat './user_dic.txt'"
   ]
  },
  {
   "cell_type": "markdown",
   "metadata": {
    "school_cell_uuid": "655085c3bda44779b6cd025eacb2f30b"
   },
   "source": [
    "Komoran 객체를 다시 생성하며 userdic 인수에 이 파일의 경로를 입력하면 다음과 같이 원하는대로 품사 분석이 이루어진다. "
   ]
  },
  {
   "cell_type": "code",
   "execution_count": 4,
   "metadata": {
    "school_cell_uuid": "c81252c78e4c4cf5a85e11bc3caf1710"
   },
   "outputs": [
    {
     "data": {
      "text/plain": [
       "[('자유', 'NNG'),\n",
       " ('한국당', 'NNP'),\n",
       " (',', 'SP'),\n",
       " ('\"', 'SS'),\n",
       " ('박근혜', 'NNP'),\n",
       " ('-', 'SS'),\n",
       " ('최순실', 'NNP'),\n",
       " ('국정', 'NNG'),\n",
       " ('농', 'NNG'),\n",
       " ('단', 'NNG'),\n",
       " ('태블릿 PC', 'NNP'),\n",
       " ('는', 'JX'),\n",
       " ('거짓', 'NNG'),\n",
       " ('\"', 'SS'),\n",
       " ('이라고', 'JKQ'),\n",
       " ('주장', 'NNG')]"
      ]
     },
     "execution_count": 4,
     "metadata": {},
     "output_type": "execute_result"
    }
   ],
   "source": [
    "komoran = Komoran(userdic='./user_dic.txt')\n",
    "komoran.pos(sentence)"
   ]
  },
  {
   "cell_type": "markdown",
   "metadata": {
    "school_cell_uuid": "1b4a5b660150442097a950a9d988df2b"
   },
   "source": [
    "## Hannanum 사용자 사전 추가 "
   ]
  },
  {
   "cell_type": "markdown",
   "metadata": {
    "school_cell_uuid": "b04e78cfd5134d0ca82a750ba59dabbf"
   },
   "source": [
    "같은 문장을 Hannanum 을 사용하여 품사 분석을 진행하면 결과는 다음과 같이 `박근혜-최순실`이 하나의 명사로 인식된다. "
   ]
  },
  {
   "cell_type": "code",
   "execution_count": 5,
   "metadata": {
    "school_cell_uuid": "dcdf9b930dd742cdbe4120ab6f78352a"
   },
   "outputs": [
    {
     "data": {
      "text/plain": [
       "[('자유한국당,', 'N'),\n",
       " ('\"박근혜-최순실', 'N'),\n",
       " ('국정농단', 'N'),\n",
       " ('태블릿', 'N'),\n",
       " ('PC', 'F'),\n",
       " ('는', 'J'),\n",
       " ('거짓', 'N'),\n",
       " ('\"', 'S'),\n",
       " ('이', 'J'),\n",
       " ('라', 'E'),\n",
       " ('고', 'J'),\n",
       " ('주장', 'N')]"
      ]
     },
     "execution_count": 5,
     "metadata": {},
     "output_type": "execute_result"
    }
   ],
   "source": [
    "from konlpy.tag import Hannanum\n",
    "hannanum = Hannanum()\n",
    "hannanum.pos(sentence)"
   ]
  },
  {
   "cell_type": "markdown",
   "metadata": {
    "school_cell_uuid": "42ce76354ee44853b21ccc1d3cc93ce7"
   },
   "source": [
    "Hannanum 형태소 분석기에서 사용자 사전을 추가 하는 방법은 `dic_user.txt` 파일에 원하는 정보를 추가하는 것이다. `KoNLPy` 패키지가 있는 위치로 이동하면, `java/data/kE` 라는 디렉토리를 확인 할 수 있다. `KoNLPy`패키지의 위치는 설치 환경마다 다르므로 독자가 스스로 찾아야 한다. 예를 들어 이 책이 제공하는 도커 환경에서의 경로는 `~/anaconda3/lib/python3.6/site-packages/konlpy/java/data/kE`이다. 이 디렉토리에 사용자 사전인 `dic_user.txt` 파일이 있다. 내용을 확인하면 다음과 같다. "
   ]
  },
  {
   "cell_type": "code",
   "execution_count": 6,
   "metadata": {
    "school_cell_uuid": "081bd4632a3943159f7541cfc4b2425e"
   },
   "outputs": [
    {
     "name": "stdout",
     "output_type": "stream",
     "text": [
      "그분들\tnpp\r\n",
      "극진\tncps\r\n",
      "당신들\tnpp\r\n",
      "동량재\tncn\r\n",
      "서충원\tncn\r\n",
      "우체통\tncn\r\n",
      "의미\tncpa\r\n",
      "이신목\tnqpc\r\n",
      "자동사\tncn\r\n",
      "·\tsy"
     ]
    }
   ],
   "source": [
    "dic_user = \"~/anaconda3/lib/python3.6/site-packages/konlpy/java/data/kE/dic_user.txt\"\n",
    "!tail {dic_user}"
   ]
  },
  {
   "cell_type": "markdown",
   "metadata": {
    "school_cell_uuid": "ac1a0a75cce74c7c81269c0a9111de0f"
   },
   "source": [
    "이 파일에 원하는 단어를 추가 한다. 이때도 단어와 품사는 탭(tab)으로 구분한다. \n",
    "\n",
    "```\n",
    "최순실  nq\n",
    "```"
   ]
  },
  {
   "cell_type": "code",
   "execution_count": 7,
   "metadata": {
    "school_cell_uuid": "355ce495672f4bb2b55a5dad62d5b8a0"
   },
   "outputs": [
    {
     "name": "stdout",
     "output_type": "stream",
     "text": [
      "극진\tncps\r\n",
      "당신들\tnpp\r\n",
      "동량재\tncn\r\n",
      "서충원\tncn\r\n",
      "우체통\tncn\r\n",
      "의미\tncpa\r\n",
      "이신목\tnqpc\r\n",
      "자동사\tncn\r\n",
      "·\tsy\r\n",
      "최순실  nq\r\n"
     ]
    }
   ],
   "source": [
    "!cp {dic_user} {dic_user}.org\n",
    "!echo \"\\n최순실  nq\" >> {dic_user}\n",
    "!tail {dic_user}"
   ]
  },
  {
   "cell_type": "markdown",
   "metadata": {
    "school_cell_uuid": "bfb57ab19f174834b4ba43cf77a1473b"
   },
   "source": [
    "파일을 저장하고 Hannanum 클래스를 다시 생성하면 원하는 분석을 할 수 있다."
   ]
  },
  {
   "cell_type": "code",
   "execution_count": 8,
   "metadata": {
    "school_cell_uuid": "87e1b0d2ba134ac797c288239586f53d"
   },
   "outputs": [
    {
     "data": {
      "text/plain": [
       "[('자유한국당,', 'N'),\n",
       " ('\"', 'S'),\n",
       " ('박근혜', 'N'),\n",
       " ('-', 'S'),\n",
       " ('최순실', 'N'),\n",
       " ('국정농단', 'N'),\n",
       " ('태블릿', 'N'),\n",
       " ('PC', 'F'),\n",
       " ('는', 'J'),\n",
       " ('거짓', 'N'),\n",
       " ('\"', 'S'),\n",
       " ('이', 'J'),\n",
       " ('라', 'E'),\n",
       " ('고', 'J'),\n",
       " ('주장', 'N')]"
      ]
     },
     "execution_count": 8,
     "metadata": {},
     "output_type": "execute_result"
    }
   ],
   "source": [
    "hannanum = Hannanum()\n",
    "hannanum.pos(sentence)"
   ]
  },
  {
   "cell_type": "code",
   "execution_count": 9,
   "metadata": {
    "school_cell_uuid": "fb5733a11ec84f1783a82e18b03e08c0"
   },
   "outputs": [
    {
     "name": "stdout",
     "output_type": "stream",
     "text": [
      "그분들\tnpp\r\n",
      "극진\tncps\r\n",
      "당신들\tnpp\r\n",
      "동량재\tncn\r\n",
      "서충원\tncn\r\n",
      "우체통\tncn\r\n",
      "의미\tncpa\r\n",
      "이신목\tnqpc\r\n",
      "자동사\tncn\r\n",
      "·\tsy"
     ]
    }
   ],
   "source": [
    "# 다시 원래대로 복원\n",
    "!mv -f {dic_user}.org {dic_user}\n",
    "!tail {dic_user}"
   ]
  },
  {
   "cell_type": "markdown",
   "metadata": {
    "school_cell_uuid": "de3920b0264744b7bdcf6d2f3edb494e"
   },
   "source": [
    "## Kkma 사용자 사전 추가 방법"
   ]
  },
  {
   "cell_type": "markdown",
   "metadata": {
    "school_cell_uuid": "87d26b9585f64e26a8a5e358d7f2ac04"
   },
   "source": [
    "역시 같은 문장을 Kkma를 이용해 분석하면 다음과 같이, 잘못된 품사 분석 결과가 출력된다. "
   ]
  },
  {
   "cell_type": "code",
   "execution_count": 10,
   "metadata": {
    "school_cell_uuid": "3fdc9dc6584745ca9bd280dc97688183"
   },
   "outputs": [
    {
     "data": {
      "text/plain": [
       "[('자유', 'NNG'),\n",
       " ('한국', 'NNG'),\n",
       " ('당', 'NNG'),\n",
       " (',', 'SP'),\n",
       " ('\"', 'SS'),\n",
       " ('박근', 'NNG'),\n",
       " ('혜', 'UN'),\n",
       " ('-', 'SW'),\n",
       " ('최', 'NNP'),\n",
       " ('순', 'NNG'),\n",
       " ('실', 'NNG'),\n",
       " ('국정', 'NNG'),\n",
       " ('농단', 'NNG'),\n",
       " ('태블릿', 'NNG'),\n",
       " ('PC', 'OL'),\n",
       " ('는', 'JX'),\n",
       " ('거짓', 'NNG'),\n",
       " ('\"', 'SS'),\n",
       " ('이', 'VCP'),\n",
       " ('라고', 'ECD'),\n",
       " ('주장', 'NNG')]"
      ]
     },
     "execution_count": 10,
     "metadata": {},
     "output_type": "execute_result"
    }
   ],
   "source": [
    "from konlpy.tag import Kkma\n",
    "kkma = Kkma()\n",
    "kkma.pos(sentence)"
   ]
  },
  {
   "cell_type": "markdown",
   "metadata": {
    "school_cell_uuid": "119cb121d4aa402bba553f3e7ebdb07f"
   },
   "source": [
    "Kkma 형태소 분석기의 사용자 사전을 추가 하는 방법은 직접 분석기가 사용하는 사전에 단어와 품사 정보를 입력하는 것이다. Kkma가 사용하는 사전은 꼬꼬마 형태소 분석기의 `kkma-2.0.jar` 파일 내에 존재한다. 이 `kkma-2.0.jar` 파일 역시 KoNLPy 패키지 디렉토리 내 `java` 디렉토리 안에 있다. 해당 .jar 파일의 내용을 다음과 같이 출력할 수 있다. 다음은 `kkma-2.0.jar` 파일 내의 사전 관련 파일 만 출력한다. "
   ]
  },
  {
   "cell_type": "code",
   "execution_count": 11,
   "metadata": {
    "school_cell_uuid": "b5a8eccc17fb4faa9835cd9ec41b8ce2"
   },
   "outputs": [
    {
     "name": "stdout",
     "output_type": "stream",
     "text": [
      "dic/ecat/ChemFormula.dic\r\n",
      "dic/ecat/CompNoun.dic\r\n",
      "dic/ecat/JunkWord.dic\r\n",
      "dic/ecat/UOM.dic\r\n",
      "dic/ecat/VerbJunkWord.dic\r\n",
      "dic/ecat/VerbNoun.dic\r\n",
      "dic/kcc.dic\r\n",
      "dic/noun.dic\r\n",
      "dic/person.dic\r\n",
      "dic/prob/lnpr_morp.dic\r\n",
      "dic/prob/lnpr_pos.dic\r\n",
      "dic/prob/lnpr_pos_g_exp.dic\r\n",
      "dic/prob/lnpr_pos_g_morp_inter.dic\r\n",
      "dic/prob/lnpr_pos_g_morp_intra.dic\r\n",
      "dic/prob/lnpr_syllable_bi.dic\r\n",
      "dic/prob/lnpr_syllable_uni_noun.dic\r\n",
      "dic/raw.dic\r\n",
      "dic/simple.dic\r\n",
      "dic/verb.dic\r\n"
     ]
    }
   ],
   "source": [
    "kkma_jar = \"~/anaconda3/lib/python3.6/site-packages/konlpy/java/kkma-2.0.jar\"\n",
    "!jar tf {kkma_jar} | grep \\\\.dic"
   ]
  },
  {
   "cell_type": "markdown",
   "metadata": {
    "school_cell_uuid": "e9800be81d7946f4a57d110903d3518d"
   },
   "source": [
    "각 사전에는 형태소 분석을 위해 참조하는 단어들과 그 품사가 적혀져 있다. 다음은 noun.dic 의 내용이다. \n",
    "```\n",
    "$ cat noun.dic\n",
    "// ==============================================================\n",
    "// 명사\n",
    "// ==============================================================\n",
    "// 일반 명사\n",
    "각/NNG\n",
    "간/NNG\n",
    "감/NNG\n",
    "값/NNG\n",
    "강/NNG\n",
    "개/NNG\n",
    "거/NNG\n",
    "게/NNG\n",
    "```"
   ]
  },
  {
   "cell_type": "markdown",
   "metadata": {
    "school_cell_uuid": "d83c00cff7c64708855e6d300b67678a"
   },
   "source": [
    "사전을 수정하기 위해서는 먼저 jar 파일의 압축을 해제 한다. \n",
    "1. kkma-2.0.jar 파일이 있는 디렉토리로 이동하여, `kkma`라는 디렉토리를 생성하고 그 안에 kkma-2.0.jar파일을 압축 해제 한다.\n",
    " ```\n",
    "$ cd kkma_jar_directory/java\n",
    "$ mkdir kkma \n",
    "$ cd kkma\n",
    "$ jar xvf ../kkma-2.0.jar \n",
    " ```\n",
    "2. kkma 디렉토리 안에 dic, META-INF, org 라는 디렉토리가 생성될 것이다. 이 중 dic 디렉토리 내의 noun.dic 파일을 수정 할 것이다. dic 디렉토리로 이동하고, vi 혹은 다른 텍스트 파일 에디터를 이용하여 noun.dic를 읽는다. 여기선 vim 에디터를 사용하겠다.\n",
    "\n",
    " ```\n",
    "$ cd dic \n",
    "$ vi noun.dic\n",
    "// ==============================================================\n",
    "// 명사\n",
    "// ==============================================================\n",
    "// 일반 명사\n",
    "각/NNG\n",
    "간/NNG\n",
    "감/NNG\n",
    "값/NNG\n",
    "강/NNG\n",
    "개/NNG\n",
    "거/NNG\n",
    "게/NNG\n",
    ".\n",
    ".\n",
    ".\n",
    "  ```\n",
    "3. vim editor 창에서 `i` 를 입력하고, 원하는 단어를 추가 한다. 어느 위치에 추가 해도 큰 관계는 없지만, 가나다 순으로 정렬해 놓으면 추후 수정이나 조회가 쉬울 것이다. \n",
    "```\n",
    ".\n",
    ".\n",
    "최산/NNG\n",
    "최상/NNG\n",
    "최선/NNG\n",
    "최성/NNG\n",
    "최소/NNG\n",
    "최승/NNG\n",
    "최순실/NNG\n",
    "최신/NNG\n",
    "최심/NNG\n",
    "최악/NNG\n",
    "-- INSERT --\n",
    "```\n",
    "\n",
    "4. 변경 사항을 저장한다.(vim editor 기준으로는 `:wq`) 그리고 kkma 디렉토리로 돌아와, jar 파일로 압축하고 기존의 것을 대체한다. 원본은 만약을 위해 다른 곳에 저장해두기를 추천한다. \n",
    "```\n",
    "$ cd ..\n",
    "$ jar cvf kkma-2.0.jar *\n",
    "$ mv kkma-2.0.jar ../\n",
    "```"
   ]
  },
  {
   "cell_type": "markdown",
   "metadata": {
    "school_cell_uuid": "e80fa8147c9244c180ee41f8ca1c340b"
   },
   "source": [
    "그 다음, Jupyter notebook를 재시작하고 , Kkma 객체를 생성하면 다음과 같이 우리가 원하는 품사 분석이 가능해진다.\n",
    "\n",
    "```\n",
    ">>> from konlpy.tag import Kkma\n",
    ">>> kkma = Kkma()\n",
    ">>> sentence = '자유한국당 \"박근혜-최순실 국정농단 태블릿 PC는 거짓\"이라고 주장'\n",
    ">>> kkma.pos(sentence)\n",
    "\n",
    "[('자유', 'NNG'),\n",
    " ('한국', 'NNG'),\n",
    " ('당', 'NNG'),\n",
    " (',', 'SP'),\n",
    " ('\"', 'SS'),\n",
    " ('박근혜', 'NNG'),\n",
    " ('-', 'SW'),\n",
    " ('최순실', 'NNG'),\n",
    " ('국정', 'NNG'),\n",
    " ('농단', 'NNG'),\n",
    " ('태블릿', 'NNG'),\n",
    " ('PC', 'OL'),\n",
    " ('는', 'JX'),\n",
    " ('거짓', 'NNG'),\n",
    " ('\"', 'SS'),\n",
    " ('이', 'VCP'),\n",
    " ('라고', 'ECD'),\n",
    " ('주장', 'NNG')]\n",
    " ```"
   ]
  }
 ],
 "metadata": {
  "celltoolbar": "Edit Metadata",
  "kernelspec": {
   "display_name": "Python 3",
   "language": "python",
   "name": "python3"
  },
  "language_info": {
   "codemirror_mode": {
    "name": "ipython",
    "version": 3
   },
   "file_extension": ".py",
   "mimetype": "text/x-python",
   "name": "python",
   "nbconvert_exporter": "python",
   "pygments_lexer": "ipython3",
   "version": "3.6.6"
  },
  "toc": {
   "base_numbering": 1,
   "nav_menu": {},
   "number_sections": false,
   "sideBar": true,
   "skip_h1_title": false,
   "title_cell": "Table of Contents",
   "title_sidebar": "Contents",
   "toc_cell": false,
   "toc_position": {},
   "toc_section_display": true,
   "toc_window_display": false
  }
 },
 "nbformat": 4,
 "nbformat_minor": 2
}