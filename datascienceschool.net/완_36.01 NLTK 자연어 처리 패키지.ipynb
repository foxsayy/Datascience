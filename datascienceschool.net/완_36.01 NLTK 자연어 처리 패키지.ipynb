{
 "cells": [
  {
   "cell_type": "markdown",
   "metadata": {},
   "source": [
    "패스트캠퍼스 데이터사이언스스쿨의 김도형 박사님 수업을 듣고 강의자료를 정리한 파일입니다. 개인적으로 참고하기 위한 요약노트이니 자세한 내용을 원하시는 분은 https://datascienceschool.net 에 올라와 있는 강의자료를 참고하시기 바랍니다."
   ]
  },
  {
   "cell_type": "markdown",
   "metadata": {
    "school_cell_uuid": "cefaae3010444fccafdfa84a355ca511"
   },
   "source": [
    "# NLTK 자연어 처리 패키지"
   ]
  },
  {
   "cell_type": "markdown",
   "metadata": {
    "school_cell_uuid": "3c24a3d6746e41a4b6cf785a611ac4bf"
   },
   "source": [
    "- NLTK(Natural Language Toolkit) 패키지\n",
    "- 교육용으로 개발된 자연어 처리 및 문서 분석용 파이썬 패키지\n",
    "- 주요 기능\n",
    "    * 말뭉치\n",
    "    * 토큰 생성\n",
    "    * 형태소 분석\n",
    "    * 품사 태깅"
   ]
  },
  {
   "cell_type": "markdown",
   "metadata": {
    "school_cell_uuid": "1ef7eefc1c444359b768dad26942a68f"
   },
   "source": [
    "## 말뭉치(corpus)"
   ]
  },
  {
   "cell_type": "markdown",
   "metadata": {
    "school_cell_uuid": "e9b2856185ce4973b862c5ae9a15bea9"
   },
   "source": [
    "- 자연어 분석 작업을 위해 만든 샘플 문서 집합\n",
    "- 단순히 소설, 신문 등의 문서를 모아놓은 것도 있지만 품사. 형태소, 등의 보조적 의미를 추가하고 쉬운 분석을 위해 구조적인 형태로 정리해 놓은 것을 포함\n",
    "- NLTK 패키지의 `corpus` 서브패키지에서는 다양한 연구용 말뭉치를 제공\n",
    "- `nltk.download('book')` 명령을 실행하면 NLTK 패키지 사용자 설명서에서 요구하는 대부분의 말뭉치를 다운로드"
   ]
  },
  {
   "cell_type": "code",
   "execution_count": 87,
   "metadata": {},
   "outputs": [],
   "source": [
    "# 말뭉치 가져오기\n",
    "import nltk\n",
    "nltk.download('book', quiet=True)\n",
    "from nltk.book import *"
   ]
  },
  {
   "cell_type": "code",
   "execution_count": 88,
   "metadata": {},
   "outputs": [
    {
     "data": {
      "text/plain": [
       "['austen-emma.txt',\n",
       " 'austen-persuasion.txt',\n",
       " 'austen-sense.txt',\n",
       " 'bible-kjv.txt',\n",
       " 'blake-poems.txt',\n",
       " 'bryant-stories.txt',\n",
       " 'burgess-busterbrown.txt',\n",
       " 'carroll-alice.txt',\n",
       " 'chesterton-ball.txt',\n",
       " 'chesterton-brown.txt',\n",
       " 'chesterton-thursday.txt',\n",
       " 'edgeworth-parents.txt',\n",
       " 'melville-moby_dick.txt',\n",
       " 'milton-paradise.txt',\n",
       " 'shakespeare-caesar.txt',\n",
       " 'shakespeare-hamlet.txt',\n",
       " 'shakespeare-macbeth.txt',\n",
       " 'whitman-leaves.txt']"
      ]
     },
     "execution_count": 88,
     "metadata": {},
     "output_type": "execute_result"
    }
   ],
   "source": [
    "# 구텐베르크 말뭉치\n",
    "nltk.corpus.gutenberg.fileids()"
   ]
  },
  {
   "cell_type": "markdown",
   "metadata": {
    "school_cell_uuid": "112a64e93d6f48588f52badd9a15e312"
   },
   "source": [
    "이 중 제인 오스틴의 엠마 문서를 살펴보면 다음과 같이 원문 형태 그대로를 포함하고 있다."
   ]
  },
  {
   "cell_type": "code",
   "execution_count": 86,
   "metadata": {},
   "outputs": [
    {
     "name": "stdout",
     "output_type": "stream",
     "text": [
      "[Emma by Jane Austen 1816]\n",
      "\n",
      "VOLUME I\n",
      "\n",
      "CHAPTER I\n",
      "\n",
      "\n",
      "Emma Woodhouse, handsome, clever, and rich, with a comfortable home\n",
      "and happy disposition, seemed to unite some of the best blessings\n",
      "of existence; and had lived nearly twenty-one years in the world\n",
      "with very little to distress or vex her.\n",
      "\n",
      "She was the youngest of the two daughters of a most affectionate,\n",
      "indulgent father; and had, in consequence of her sister's marriage,\n",
      "been mistress of his house from a very early period.  Her mother\n",
      "had died too long ago for her to have more than an indistinct\n",
      "remembrance of her caresses; and her place had been supplied\n",
      "by an excellent woman as governess, who had fallen little short\n",
      "of a mother in affection.\n",
      "\n",
      "Sixteen years had Miss Taylor been in Mr. Woodhouse's family,\n",
      "less as a governess than a friend, very fond of both daughters,\n",
      "but particularly of Emma.  Between _them_ it was more the intimacy\n",
      "of sisters.  Even before Miss Taylor had ceased to hold the nominal\n",
      "office of governess, the mildness of her temper had hardly allowed\n",
      "her to impose any restraint; and the shadow of authority being\n",
      "now long passed away, they had been living together as friend and\n",
      "friend very mutually attached, and Emma doing just what she liked;\n",
      "highly esteeming Miss Taylor's judgment, but directed chiefly by\n",
      "her own.\n",
      "\n",
      "The real evils, indeed, of Emma's situation were the power of having\n",
      "rather too much her own way, and a disposition to think a little\n",
      "too well of herself; these were the disadvantages which threatened\n",
      "alloy to her many enjoyments.  The danger, however, was at present\n",
      "so unperceived, that they did not by any means rank as misfortunes\n",
      "with her.\n",
      "\n",
      "Sorrow came--a gentle sorrow--but not at all in the shape of any\n",
      "disagreeable consciousness.--Miss Taylor married.  It was Miss\n",
      "Taylor's loss which first brought grief.  It was on the wedding-day\n",
      "of this beloved friend that Emma first sat in mournful thought\n",
      "of any continuance.  The wedding over, and the bride-people gone,\n",
      "her father and herself were left to dine together, with no prospect\n",
      "of a third to cheer a long evening.  Her father composed himself\n",
      "to sleep after dinner, as usual, and she had then only to sit\n",
      "and think of what she had lost.\n",
      "\n",
      "The event had every promise of happiness for her friend.  Mr. Weston\n",
      "was a man of unexceptionable character, easy fortune, suitable age,\n",
      "and pleasant manners; and there was some satisfaction in considering\n",
      "with what self-denying, generous friendship she had always wished\n",
      "and promoted the match; but it was a black morning's work for her.\n",
      "The want of Miss Taylor would be felt every hour of every day.\n",
      "She recalled her past kindness--the kindness, the affection of sixteen\n",
      "years--how she had taught and how she had played with her from five\n",
      "years old--how she had devoted all her powers to attach and amuse\n",
      "her in health--and how nursed her through the various illnesses\n",
      "of childhood.  A large debt of gratitude was owing here; but the\n",
      "intercourse of the last seven years, the equal footing and perfect\n",
      "unreserve which had soon followed Isabella's marriage, on their\n",
      "being left to each other, was yet a dearer, tenderer recollection.\n",
      "She had been a friend and companion such as few possessed: intelligent,\n",
      "well-informed, useful, gentle, knowing all the ways of the family,\n",
      "interested in all its concerns, and peculiarly interested in herself,\n",
      "in every pleasure, every scheme of hers--one to whom she could speak\n",
      "every thought as it arose, and who had such an affection for her\n",
      "as could never find fault.\n",
      "\n",
      "How was she to bear the change?--It was true that her friend was\n",
      "going only half a mile from them; but Emma was aware that great must\n",
      "be the difference between a Mrs. Weston, only half a mile from them,\n",
      "and a Miss Taylor in the house; and with all her advantages,\n",
      "natural and domestic, she was now in great danger of suffering\n",
      "from intellectual solitude.  She dearly loved her father, but he\n",
      "was no companion for her.  He could not meet her in conversation,\n",
      "rational or playful.\n",
      "\n",
      "The evil of the actual disparity in their ages (and Mr. Woodhouse had\n",
      "not married early) was much increased by his constitution and habits;\n",
      "for having been a valetudinarian all his life, without activity\n",
      "of mind or body, he was a much older man in ways than in years;\n",
      "and though everywhere beloved for the friendliness of his heart\n",
      "and his amiable temper, his talents could not have recommended him\n",
      "at any time.\n",
      "\n",
      "Her sister, though comparatively but little removed by matrimony,\n",
      "being settled in London, only sixteen miles off, was much beyond\n",
      "her daily reach; and many a long October and November evening must\n",
      "be struggled through at Hartfield, before Christmas brought the next\n",
      "visit from Isabella and her husband, and their little children,\n",
      "to fill the house, and give her pleasant society again.\n",
      "\n",
      "Highbury, the large and populous village, almost amounting to a town,\n",
      "to which Hartfield, in spite of its separate lawn, and shrubberies,\n",
      "and name, did really belong, afforded her no equals.  The Woodhouses\n",
      "were first in consequence there.  All looked up to them.  She had\n",
      "many acquaintance in the place, for her father was universally civil,\n",
      "but not one among them who could be accepted in lieu of Miss\n",
      "Taylor for even half a day.  It was a melancholy change; and Emma\n",
      "could not but sigh over it, and wish for impossible things,\n",
      "till her father awoke, and made it necessary to be cheerful.\n",
      "His spirits required support.  He was a nervous man, easily depressed;\n",
      "fond of every body that he was used to, and hating to part with them;\n",
      "hating change of every kind.  Matrimony, as the origin of change,\n",
      "was always disagreeable; and he was by no means yet reconciled\n",
      "to his own daughter's marrying, nor could ever speak of her but\n",
      "with compassion, though it had been entirely a match of affection,\n",
      "when he was now obliged to part with Miss Taylor too; and from\n",
      "his habits of gentle selfishness, and of being never able to\n",
      "suppose that other people could feel differently from himself,\n",
      "he was very much disposed to think Miss Taylor had done as sad\n",
      "a thing for herself as for them, and would have been a great deal\n",
      "happier if she had spent all the rest of her life at Hartfield.\n",
      "Emma smiled and chatted as cheerfully as she could, to keep him\n",
      "from such thoughts; but when tea came, it was impossible for him\n",
      "not to say exactly as he had said at dinner,\n",
      "\n",
      "\"Poor Miss Taylor!--I wish she were here again.  What a pity it\n",
      "is that Mr. Weston ever thought of her!\"\n",
      "\n",
      "\"I cannot agree with you, papa; you know I cannot.  Mr. Weston is such\n",
      "a good-humoured, pleasant, excellent man, that he thoroughly deserves\n",
      "a good wife;--and you would not have had Miss Taylor live with us\n",
      "for ever, and bear all my odd humours, when she might have a house of her own?\"\n",
      "\n",
      "\"A house of her own!--But where is the advantage of a house of her own?\n",
      "This is three times as large.--And you have never any odd humours,\n",
      "my dear.\"\n",
      "\n",
      "\"How often we shall be going to see them, and they coming to see\n",
      "us!--We shall be always meeting! _We_ must begin; we must go and pay\n",
      "wedding visit very soon.\"\n",
      "\n",
      "\"My dear, how am I to get so far? Randalls is such a distance.\n",
      "I could not walk half so far.\"\n",
      "\n",
      "\"No, papa, nobody thought of your walking.  We must go in the carriage,\n",
      "to be sure.\"\n",
      "\n",
      "\"The carriage! But James will not like to put the horses to for\n",
      "such a little way;--and where are the poor horses to be while we\n",
      "are paying our visit?\"\n",
      "\n",
      "\"They are to be put into Mr. Weston's stable, papa.  You know we\n",
      "have settled all that already.  We talked it all over with Mr. Weston\n",
      "last night.  And as for James, you may be very sure he will always like\n",
      "going to Randalls, because of his daughter's being housemaid there.\n",
      "I only doubt whether he will ever take us anywhere else.  That was\n",
      "your doing, papa.  You got Hannah that good place.  Nobody thought\n",
      "of Hannah till you mentioned her--James is so obliged to you!\"\n",
      "\n",
      "\"I am very glad I did think of her.  It was very lucky, for I would\n",
      "not have had poor James think himself slighted upon any account;\n",
      "and I am sure she will make a very good servant: she is a civil,\n",
      "pretty-spoken girl; I have a great opinion of her.  Whenever I see her,\n",
      "she always curtseys and asks me how I do, in a very pretty manner;\n",
      "and when you have had her here to do needlework, I observe she\n",
      "always turns the lock of the door the right way and never bangs it.\n",
      "I am sure she will be an excellent servant; and it will be a great\n",
      "comfort to poor Miss Taylor to have somebody about her that she is\n",
      "used to see.  Whenever James goes over to see his daughter, you know,\n",
      "she will be hearing of us.  He will be able to tell her how we\n",
      "all are.\"\n",
      "\n",
      "Emma spared no exertions to maintain this happier flow of ideas,\n",
      "and hoped, by the help of backgammon, to get her father tolerably\n",
      "through the evening, and be attacked by no regrets but her own.\n",
      "The backgammon-table was placed; but a visitor immediately afterwards\n",
      "walked in and made it unnecessary.\n",
      "\n",
      "Mr. Knightley, a sensible man about seven or eight-and-thirty, was not\n",
      "only a very old and intimate friend of the family, but particularly\n",
      "connected with it, as the elder brother of Isabella's husband.\n",
      "He lived about a mile from Highbury, was a frequent visitor,\n",
      "and always welcome, and at this time more welcome than usual,\n",
      "as coming directly from their mutual connexions in London.  He had\n",
      "returned to a late dinner, after some days' absence, and now walked\n",
      "up to Hartfield to say that all were well in Brunswick Square.\n",
      "It was a happy circumstance, and animated Mr. Woodhouse for some time.\n",
      "Mr. Knightley had a cheerful manner, which always did him good;\n",
      "and his many inquiries after \"poor Isabella\" and her children were\n",
      "answered most satisfactorily.  When this was over, Mr. Woodhouse\n",
      "gratefully observed, \"It is very kind of you, Mr. Knightley, to come\n",
      "out at this late hour to call upon us.  I am afraid you must have\n",
      "had a shocking walk.\"\n",
      "\n",
      "\"Not at all, sir.  It is a beautiful moonlight night; and so mild\n",
      "that I must draw back from your great fire.\"\n",
      "\n",
      "\"But you must have found it very damp and dirt\n"
     ]
    }
   ],
   "source": [
    "# 제인 오스틴의 엠마\n",
    "emma_raw = nltk.corpus.gutenberg.raw(\"austen-emma.txt\")\n",
    "print(emma_raw[:10000])"
   ]
  },
  {
   "cell_type": "markdown",
   "metadata": {
    "school_cell_uuid": "f129565fb1e443fe937ae2bf85fac634"
   },
   "source": [
    "## 토큰 생성"
   ]
  },
  {
   "cell_type": "markdown",
   "metadata": {
    "school_cell_uuid": "f122c3e0b2e7490a872ceecaacb19422"
   },
   "source": [
    "- 토큰(token)\n",
    "    - 자연어 문서를 분석하기 위해 나누는 문자열 단위\n",
    "- 토큰 생성(tokenizing)\n",
    "    - 이렇게 문자열을 토큰으로 나누는 작업\n",
    "- 토큰 생성 함수(tokenizer)\n",
    "    - 문자열을 토큰으로 분리하는 함수"
   ]
  },
  {
   "cell_type": "code",
   "execution_count": 38,
   "metadata": {
    "school_cell_uuid": "5322ce1a0c3a4a7db0906719d5884a86"
   },
   "outputs": [
    {
     "name": "stdout",
     "output_type": "stream",
     "text": [
      "She was the youngest of the two daughters of a most affectionate,\n",
      "indulgent father; and had, in consequence of her sister's marriage,\n",
      "been mistress of his house from a very early period.\n"
     ]
    }
   ],
   "source": [
    "# 문장 토큰 생성\n",
    "from nltk.tokenize import sent_tokenize\n",
    "print(sent_tokenize(emma_raw[:1000])[1])"
   ]
  },
  {
   "cell_type": "code",
   "execution_count": 39,
   "metadata": {
    "school_cell_uuid": "1e4375058a99499baa1f109bf0c7a637",
    "scrolled": false
   },
   "outputs": [
    {
     "data": {
      "text/plain": [
       "['Emma',\n",
       " 'Woodhouse',\n",
       " ',',\n",
       " 'handsome',\n",
       " ',',\n",
       " 'clever',\n",
       " ',',\n",
       " 'and',\n",
       " 'rich',\n",
       " ',',\n",
       " 'with',\n",
       " 'a']"
      ]
     },
     "execution_count": 39,
     "metadata": {},
     "output_type": "execute_result"
    }
   ],
   "source": [
    "# 단어 토큰 생성\n",
    "from nltk.tokenize import word_tokenize\n",
    "word_tokenize(emma_raw[50:100])"
   ]
  },
  {
   "cell_type": "code",
   "execution_count": 40,
   "metadata": {
    "school_cell_uuid": "eebd21a3f9d2455689f8371085e5049b"
   },
   "outputs": [
    {
     "data": {
      "text/plain": [
       "['Emma', 'Woodhouse', 'handsome', 'clever', 'and', 'rich', 'with', 'a']"
      ]
     },
     "execution_count": 40,
     "metadata": {},
     "output_type": "execute_result"
    }
   ],
   "source": [
    "# 정규표현식을 사용한 토큰 생성\n",
    "from nltk.tokenize import RegexpTokenizer\n",
    "retokenize = RegexpTokenizer(\"[\\w]+\")\n",
    "retokenize.tokenize(emma_raw[50:100])"
   ]
  },
  {
   "cell_type": "markdown",
   "metadata": {
    "school_cell_uuid": "ec81f06972024f0a9c65e9b88fa2c96e"
   },
   "source": [
    "## 형태소 분석"
   ]
  },
  {
   "cell_type": "markdown",
   "metadata": {
    "school_cell_uuid": "0ee8b0e66a694a26a14aec4cf8fc66f2"
   },
   "source": [
    "- 형태소\n",
    "    - 일정한 의미가 있는 가장 작은 말의 단위\n",
    "    - 자연어 처리에서는 보통 형태소를 토큰으로 이용\n",
    "- 형태소 분석(morphological analysis)\n",
    "    - 단어로부터 어근, 접두사, 접미사, 품사 등 다양한 언어적 속성을 파악하고 이를 이용하여 형태소를 찾아내거나 처리하는 작업\n",
    "- 형태소 분석의 예\n",
    "    * 어간 추출(stemming)\n",
    "    * 원형 복원(lemmatizing)\n",
    "    * 품사 부착(Part-Of-Speech tagging)"
   ]
  },
  {
   "cell_type": "markdown",
   "metadata": {
    "school_cell_uuid": "1749e8ed4ebe46a593d94348b28b49c9"
   },
   "source": [
    " ### 어간 추출과 원형 복원"
   ]
  },
  {
   "cell_type": "markdown",
   "metadata": {
    "school_cell_uuid": "b79b41a52dcf42918bec997cc2ddd637"
   },
   "source": [
    "- 어간 추출(stemming)\n",
    "    - 변화된 단어의 접미사나 어미를 제거해 같은 의미를 가지는 형태소의 기본형을 찾는 방법\n",
    "    - NLTK는 `PorterStemmer`  `LancasterStemmer` 등을 제공\n",
    "    - 단순히 어미를 제거할 뿐이므로 단어의 원형의 정확히 찾아주지는 않음"
   ]
  },
  {
   "cell_type": "code",
   "execution_count": 41,
   "metadata": {
    "school_cell_uuid": "275eaa0e1a7b4c769fb04326e551eb45"
   },
   "outputs": [],
   "source": [
    "words = ['lives', 'crying', 'flies', 'dying']"
   ]
  },
  {
   "cell_type": "code",
   "execution_count": 42,
   "metadata": {
    "school_cell_uuid": "f6b74cbddc1e4be0bf3e7dd99e644b55"
   },
   "outputs": [
    {
     "data": {
      "text/plain": [
       "['live', 'cri', 'fli', 'die']"
      ]
     },
     "execution_count": 42,
     "metadata": {},
     "output_type": "execute_result"
    }
   ],
   "source": [
    "# PorterStemmer를 사용한 어간 추출\n",
    "from nltk.stem import PorterStemmer\n",
    "st = PorterStemmer()\n",
    "[st.stem(w) for w in words]"
   ]
  },
  {
   "cell_type": "code",
   "execution_count": 43,
   "metadata": {
    "school_cell_uuid": "6b6c67f912814d6c8885262239dec81a"
   },
   "outputs": [
    {
     "data": {
      "text/plain": [
       "['liv', 'cry', 'fli', 'dying']"
      ]
     },
     "execution_count": 43,
     "metadata": {},
     "output_type": "execute_result"
    }
   ],
   "source": [
    "# LancasterStemmer를 사용한 어간 추출\n",
    "from nltk.stem import LancasterStemmer\n",
    "st = LancasterStemmer()\n",
    "[st.stem(w) for w in words]"
   ]
  },
  {
   "cell_type": "markdown",
   "metadata": {
    "school_cell_uuid": "3f4643c470f44da59f17c5d9604b091c"
   },
   "source": [
    "- 원형 복원(lemmatizing)\n",
    "    - 같은 의미를 가지는 여러 단어를 사전형으로 통일하는 작업\n",
    "    - 품사(part of speech)를 지정하는 경우 좀 더 정확한 원형을 찾을 수 있음"
   ]
  },
  {
   "cell_type": "code",
   "execution_count": 44,
   "metadata": {
    "school_cell_uuid": "944d15f623024c52a533819cb7072fe9"
   },
   "outputs": [
    {
     "data": {
      "text/plain": [
       "['life', 'cry', 'fly', 'dying']"
      ]
     },
     "execution_count": 44,
     "metadata": {},
     "output_type": "execute_result"
    }
   ],
   "source": [
    "# WordNetLemmatizer를 사용한 원형 복원\n",
    "from nltk.stem import WordNetLemmatizer\n",
    "lm = WordNetLemmatizer()\n",
    "[lm.lemmatize(w) for w in words]"
   ]
  },
  {
   "cell_type": "code",
   "execution_count": 45,
   "metadata": {
    "school_cell_uuid": "6cf90589a89c4d6caa0ac69bc603b711"
   },
   "outputs": [
    {
     "data": {
      "text/plain": [
       "'die'"
      ]
     },
     "execution_count": 45,
     "metadata": {},
     "output_type": "execute_result"
    }
   ],
   "source": [
    "# 품사 지정하기\n",
    "lm.lemmatize(\"dying\", pos=\"v\")"
   ]
  },
  {
   "cell_type": "markdown",
   "metadata": {
    "school_cell_uuid": "6371fb991d394427a372b321894d88bb"
   },
   "source": [
    "## POS tagging"
   ]
  },
  {
   "cell_type": "markdown",
   "metadata": {
    "school_cell_uuid": "4523460e575440178db54d697a55b42b"
   },
   "source": [
    "- 품사(POS, part-of-speech)\n",
    "    - 낱말을 문법적인 기능이나 형태, 뜻에 따라 구분한 것 \n",
    "    - NLTK에서는 펜 트리뱅크 태그세트(Penn Treebank Tagset)를 이용\n",
    "- 다음은 펜 트리뱅크 태그세트에서 사용하는 품사의 예\n",
    "    * NNP: 단수 고유명사\n",
    "    * VB: 동사\n",
    "    * VBP: 동사 현재형\n",
    "    * TO: to 전치사\n",
    "    * NN: 명사(단수형 혹은 집합형)\n",
    "    * DT: 관형사\n",
    "- 자세한 설명을 보려면 `nltk.help.upenn_tagset`"
   ]
  },
  {
   "cell_type": "code",
   "execution_count": 46,
   "metadata": {
    "school_cell_uuid": "fc7d2b18f2294abaaa3f4363890b1611"
   },
   "outputs": [
    {
     "name": "stdout",
     "output_type": "stream",
     "text": [
      "VB: verb, base form\n",
      "    ask assemble assess assign assume atone attention avoid bake balkanize\n",
      "    bank begin behold believe bend benefit bevel beware bless boil bomb\n",
      "    boost brace break bring broil brush build ...\n"
     ]
    }
   ],
   "source": [
    "nltk.help.upenn_tagset('VB')"
   ]
  },
  {
   "cell_type": "code",
   "execution_count": 52,
   "metadata": {
    "school_cell_uuid": "2dbbbfe32abe4bdaaa8dc86a195aab2d",
    "scrolled": false
   },
   "outputs": [
    {
     "data": {
      "text/plain": [
       "[('But', 'CC'),\n",
       " ('there', 'EX'),\n",
       " (\"'s\", 'VBZ'),\n",
       " ('one', 'CD'),\n",
       " ('sound', 'NN'),\n",
       " ('that', 'IN'),\n",
       " ('no', 'DT'),\n",
       " ('one', 'NN'),\n",
       " ('knows', 'VBZ'),\n",
       " ('.', '.'),\n",
       " ('What', 'WP'),\n",
       " ('does', 'VBZ'),\n",
       " ('the', 'DT'),\n",
       " ('fox', 'NNS'),\n",
       " ('say', 'VBP'),\n",
       " ('?', '.')]"
      ]
     },
     "execution_count": 52,
     "metadata": {},
     "output_type": "execute_result"
    }
   ],
   "source": [
    "# pos_tag로 단어 토큰에 품사를 부착해 출력하기\n",
    "from nltk.tag import pos_tag\n",
    "sentence = \"But there's one sound that no one knows. What does the fox say?\"\n",
    "tagged_list = pos_tag(word_tokenize(sentence))\n",
    "tagged_list"
   ]
  },
  {
   "cell_type": "code",
   "execution_count": 53,
   "metadata": {},
   "outputs": [
    {
     "data": {
      "text/plain": [
       "['sound', 'one']"
      ]
     },
     "execution_count": 53,
     "metadata": {},
     "output_type": "execute_result"
    }
   ],
   "source": [
    "# 품사 태그 정보로 특정 품사 토큰만 선택하기\n",
    "nouns_list = [t[0] for t in tagged_list if t[1] == 'NN']\n",
    "nouns_list"
   ]
  },
  {
   "cell_type": "code",
   "execution_count": 54,
   "metadata": {
    "school_cell_uuid": "5f9b852e99c4416f808e8f3375c0e9fa"
   },
   "outputs": [
    {
     "data": {
      "text/plain": [
       "['But',\n",
       " 'there',\n",
       " \"'s\",\n",
       " 'one',\n",
       " 'sound',\n",
       " 'that',\n",
       " 'no',\n",
       " 'one',\n",
       " 'knows',\n",
       " '.',\n",
       " 'What',\n",
       " 'does',\n",
       " 'the',\n",
       " 'fox',\n",
       " 'say',\n",
       " '?']"
      ]
     },
     "execution_count": 54,
     "metadata": {},
     "output_type": "execute_result"
    }
   ],
   "source": [
    "# untag 명령으로 태그 튜플 제거하기\n",
    "from nltk.tag import untag\n",
    "untag(tagged_list)"
   ]
  },
  {
   "cell_type": "markdown",
   "metadata": {
    "school_cell_uuid": "9971cb86c3e84622a7056011461cdd20"
   },
   "source": [
    "- Scikit-Learn 등에서 자연어 분석을 할 때는 같은 토큰이라도 품사가 다르면 다른 토큰으로 처리해야 하는 경우가 많음\n",
    "- 이 때는 원래의 토큰과 품사를 붙여서 새로운 토큰 이름을 만들어 사용하면 철자가 같고 품사가 다른 단어를 구분할 수 있음"
   ]
  },
  {
   "cell_type": "code",
   "execution_count": 57,
   "metadata": {
    "school_cell_uuid": "ee0bd3f87dfc423f83c8be2a7f558198"
   },
   "outputs": [
    {
     "data": {
      "text/plain": [
       "['But/CC',\n",
       " 'there/EX',\n",
       " \"'s/VBZ\",\n",
       " 'one/CD',\n",
       " 'sound/NN',\n",
       " 'that/IN',\n",
       " 'no/DT',\n",
       " 'one/NN',\n",
       " 'knows/VBZ',\n",
       " './.',\n",
       " 'What/WP',\n",
       " 'does/VBZ',\n",
       " 'the/DT',\n",
       " 'fox/NNS',\n",
       " 'say/VBP',\n",
       " '?/.']"
      ]
     },
     "execution_count": 57,
     "metadata": {},
     "output_type": "execute_result"
    }
   ],
   "source": [
    "# 철자가 같고 품사가 다른 단어 구분하기\n",
    "def tokenizer(doc):\n",
    "    return [\"/\".join(p) for p in tagged_list]\n",
    "\n",
    "tokenizer(sentence)"
   ]
  },
  {
   "cell_type": "markdown",
   "metadata": {
    "school_cell_uuid": "c287bad0e283433995ec85830b8adc5d"
   },
   "source": [
    "## Text 클래스"
   ]
  },
  {
   "cell_type": "markdown",
   "metadata": {
    "school_cell_uuid": "448b5828e61a4f0e8f1462d47449135e"
   },
   "source": [
    "- 문서 분석에 유용한 메서드들을 제공\n",
    "- 토큰열을 입력해 생성"
   ]
  },
  {
   "cell_type": "code",
   "execution_count": 58,
   "metadata": {
    "school_cell_uuid": "7aa976f7765f4b41b59b116b8582dc41"
   },
   "outputs": [],
   "source": [
    "from nltk import Text\n",
    "text = Text(retokenize.tokenize(emma_raw), name=\"Emma\")"
   ]
  },
  {
   "cell_type": "markdown",
   "metadata": {},
   "source": [
    "- `plot` 메서드로 토큰의 사용 빈도 그리기"
   ]
  },
  {
   "cell_type": "code",
   "execution_count": 65,
   "metadata": {
    "school_cell_uuid": "130b23612f57471ebdb1ae276987fb58"
   },
   "outputs": [
    {
     "data": {
      "image/png": "[encoded data removed]",
      "text/plain": [
       "<Figure size 432x288 with 1 Axes>"
      ]
     },
     "metadata": {},
     "output_type": "display_data"
    }
   ],
   "source": [
    "import matplotlib as mpl\n",
    "import matplotlib.pyplot as plt\n",
    "\n",
    "text.plot(20)\n",
    "plt.show()"
   ]
  },
  {
   "cell_type": "markdown",
   "metadata": {
    "school_cell_uuid": "0e02156aabcc4a28913106aa0e1d75ce"
   },
   "source": [
    "- `dispersion_plot` 메서드로 단어가 사용된 위치를 시각화"
   ]
  },
  {
   "cell_type": "code",
   "execution_count": 66,
   "metadata": {
    "school_cell_uuid": "60dbd4d9b7f647b289f3debb7c72e67d"
   },
   "outputs": [
    {
     "data": {
      "image/png": "[encoded data removed]",
      "text/plain": [
       "<Figure size 432x288 with 1 Axes>"
      ]
     },
     "metadata": {},
     "output_type": "display_data"
    }
   ],
   "source": [
    "# 등장인물 나오는 위치 시각화하기\n",
    "text.dispersion_plot([\"Emma\", \"Knightley\", \"Frank\", \"Jane\", \"Harriet\", \"Robert\"])"
   ]
  },
  {
   "cell_type": "markdown",
   "metadata": {
    "school_cell_uuid": "511a154e13f64d569eca92f4f5c4ddf0"
   },
   "source": [
    "- `concordance` 메서드로 단어가 사용된 위치를 직접 표시하기"
   ]
  },
  {
   "cell_type": "code",
   "execution_count": 69,
   "metadata": {
    "school_cell_uuid": "7ea40a13dd8a4c7fa50f76b17a590e8a"
   },
   "outputs": [
    {
     "name": "stdout",
     "output_type": "stream",
     "text": [
      "Displaying 5 of 865 matches:\n",
      " Emma by Jane Austen 1816 VOLUME I CHAPTER\n",
      " Jane Austen 1816 VOLUME I CHAPTER I Emma Woodhouse handsome clever and rich w\n",
      "f both daughters but particularly of Emma Between _them_ it was more the intim\n",
      "nd friend very mutually attached and Emma doing just what she liked highly est\n",
      " by her own The real evils indeed of Emma s situation were the power of having\n"
     ]
    }
   ],
   "source": [
    "text.concordance('Emma', lines=5)"
   ]
  },
  {
   "cell_type": "markdown",
   "metadata": {
    "school_cell_uuid": "604bba471b954d59a0ca615399d586dd"
   },
   "source": [
    "- `similar` 메서드로 해당 단어와 비슷한 문맥에서 사용된 단어들 찾기"
   ]
  },
  {
   "cell_type": "code",
   "execution_count": 70,
   "metadata": {
    "school_cell_uuid": "1043c01cf5754e7ea82e2a73f681c5d9"
   },
   "outputs": [
    {
     "name": "stdout",
     "output_type": "stream",
     "text": [
      "she it he i harriet you her jane him that\n"
     ]
    }
   ],
   "source": [
    "text.similar('Emma', 10)"
   ]
  },
  {
   "cell_type": "markdown",
   "metadata": {
    "school_cell_uuid": "288f81de32c8440c841c9ee0ca417808"
   },
   "source": [
    "- `collocations` 메서드로 연어(collocation, 같이 붙어서 쓰이는 단어) 찾기"
   ]
  },
  {
   "cell_type": "code",
   "execution_count": 71,
   "metadata": {
    "school_cell_uuid": "c5d3a4eff81146ac8fd466abeefda611"
   },
   "outputs": [
    {
     "name": "stdout",
     "output_type": "stream",
     "text": [
      "Mrs Weston; Frank Churchill; Miss Woodhouse; Mrs Elton; Miss Bates;\n",
      "Jane Fairfax; Miss Fairfax; every thing; young man; every body\n"
     ]
    }
   ],
   "source": [
    "text.collocations(10)"
   ]
  },
  {
   "cell_type": "markdown",
   "metadata": {
    "school_cell_uuid": "506346eda6264cc5b499fb4399227f95"
   },
   "source": [
    "## FreqDist"
   ]
  },
  {
   "cell_type": "markdown",
   "metadata": {
    "school_cell_uuid": "c19607a199ac449b94c464dd17e8edf5"
   },
   "source": [
    "- 문서에 사용된 단어(토큰)의 사용빈도 정보를 담는 클래스\n",
    "- `Text` 클래스의 `vocab` 메서드로 추출"
   ]
  },
  {
   "cell_type": "code",
   "execution_count": 75,
   "metadata": {
    "school_cell_uuid": "fcfa703fccf3499e8d01dc918821f0bf",
    "scrolled": true
   },
   "outputs": [
    {
     "data": {
      "text/plain": [
       "nltk.probability.FreqDist"
      ]
     },
     "execution_count": 75,
     "metadata": {},
     "output_type": "execute_result"
    }
   ],
   "source": [
    "fd = text.vocab()\n",
    "type(fd)"
   ]
  },
  {
   "cell_type": "markdown",
   "metadata": {
    "school_cell_uuid": "351d7cc6a7be4e248ab88e7549c28ab4"
   },
   "source": [
    "- 토큰 리스트를 넣어서 직접 만들 수도 있음\n",
    "- 아래는 Emma 말뭉치에서 사람의 이름만 모아서 만든 `FreqDist` 클래스 객체. 품사 태그에서 `NNP`(고유대명사)이면서 필요없는 단어(stop words)는 제거\n",
    "- `FreqDist` 클래스는 단어를 키(key), 출현빈도를 값(value)으로 가지는 사전 자료형과 유사"
   ]
  },
  {
   "cell_type": "code",
   "execution_count": 79,
   "metadata": {
    "school_cell_uuid": "8576e8afd72b4927836158e39a7870d8"
   },
   "outputs": [
    {
     "data": {
      "text/plain": [
       "FreqDist({'Emma': 830, 'Harriet': 491, 'Weston': 439, 'Knightley': 389, 'Elton': 385, 'Woodhouse': 304, 'Jane': 299, 'Fairfax': 241, 'Churchill': 223, 'Frank': 208, ...})"
      ]
     },
     "execution_count": 79,
     "metadata": {},
     "output_type": "execute_result"
    }
   ],
   "source": [
    "from nltk import FreqDist\n",
    "\n",
    "stopwords = [\"Mr.\", \"Mrs.\", \"Miss\", \"Mr\", \"Mrs\", \"Dear\"]\n",
    "emma_tokens = pos_tag(retokenize.tokenize(emma_raw))\n",
    "names_list = [t[0] for t in emma_tokens if t[1] == \"NNP\" and t[0] not in stopwords]\n",
    "fd_names = FreqDist(names_list)\n",
    "fd_names"
   ]
  },
  {
   "cell_type": "markdown",
   "metadata": {
    "school_cell_uuid": "aa1a6a03e76747e1ade48b8eee5573d4"
   },
   "source": [
    "- 아래는 전체 단어의 수, \"Emma\"라는 단어의 출현 횟수와 확률을 계산"
   ]
  },
  {
   "cell_type": "code",
   "execution_count": 80,
   "metadata": {
    "school_cell_uuid": "d47c26a97dc449a2b3ca65601b87ae8d"
   },
   "outputs": [
    {
     "data": {
      "text/plain": [
       "(7863, 830, 0.10555767518758744)"
      ]
     },
     "execution_count": 80,
     "metadata": {},
     "output_type": "execute_result"
    }
   ],
   "source": [
    "fd_names.N(), fd_names[\"Emma\"], fd_names.freq(\"Emma\")"
   ]
  },
  {
   "cell_type": "markdown",
   "metadata": {
    "school_cell_uuid": "55a07e35d5704f768a3d00c675c32756"
   },
   "source": [
    "- `most_common` 메서드로 가장 출현 횟수가 높은 단어를 찾기"
   ]
  },
  {
   "cell_type": "code",
   "execution_count": 26,
   "metadata": {
    "school_cell_uuid": "1b794f0badd24a9baa96bd8596c081b4"
   },
   "outputs": [
    {
     "data": {
      "text/plain": [
       "[('Emma', 830),\n",
       " ('Harriet', 491),\n",
       " ('Weston', 439),\n",
       " ('Knightley', 389),\n",
       " ('Elton', 385)]"
      ]
     },
     "execution_count": 26,
     "metadata": {},
     "output_type": "execute_result"
    }
   ],
   "source": [
    "fd_names.most_common(5)"
   ]
  },
  {
   "cell_type": "markdown",
   "metadata": {
    "school_cell_uuid": "31684b85d38e465989e96d95e7d54c29"
   },
   "source": [
    "## 워드클라우드"
   ]
  },
  {
   "cell_type": "markdown",
   "metadata": {
    "school_cell_uuid": "7a22165b23f24c60ab77fd5178c73ade"
   },
   "source": [
    "- 단어의 사용 빈도수에 따라 워드클라우드(Word Cloud) 시각화"
   ]
  },
  {
   "cell_type": "code",
   "execution_count": 81,
   "metadata": {
    "school_cell_uuid": "1533dfbbdf10404ca327e21d6df9cd10",
    "scrolled": false
   },
   "outputs": [
    {
     "data": {
      "image/png": "[encoded data removed]",
      "text/plain": [
       "<Figure size 432x288 with 1 Axes>"
      ]
     },
     "metadata": {},
     "output_type": "display_data"
    }
   ],
   "source": [
    "from wordcloud import WordCloud\n",
    "wc = WordCloud(width=1000, height=600, background_color=\"white\", random_state=0)\n",
    "plt.imshow(wc.generate_from_frequencies(fd_names))\n",
    "plt.axis(\"off\")\n",
    "plt.show()"
   ]
  }
 ],
 "metadata": {
  "kernelspec": {
   "display_name": "Python 3",
   "language": "python",
   "name": "python3"
  },
  "language_info": {
   "codemirror_mode": {
    "name": "ipython",
    "version": 3
   },
   "file_extension": ".py",
   "mimetype": "text/x-python",
   "name": "python",
   "nbconvert_exporter": "python",
   "pygments_lexer": "ipython3",
   "version": "3.7.0"
  },
  "toc": {
   "base_numbering": 1,
   "nav_menu": {},
   "number_sections": false,
   "sideBar": true,
   "skip_h1_title": false,
   "title_cell": "Table of Contents",
   "title_sidebar": "Contents",
   "toc_cell": false,
   "toc_position": {},
   "toc_section_display": true,
   "toc_window_display": false
  }
 },
 "nbformat": 4,
 "nbformat_minor": 1
}
